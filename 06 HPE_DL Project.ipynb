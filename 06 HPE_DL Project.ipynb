{
 "cells": [
  {
   "cell_type": "code",
   "execution_count": 2,
   "metadata": {},
   "outputs": [],
   "source": [
    "import pandas as pd\n",
    "import math\n",
    "import numpy as np\n",
    "import os\n",
    "global values\n",
    "global val_to_int\n",
    "global languages\n",
    "global maxlen\n",
    "global N_LANG\n",
    "N_LANG=10\n",
    "values='ABCDEFabcdef0123456789*'\n",
    "val_to_int = dict((c, i) for i, c in enumerate(values))\n",
    "languages=[\"hi\",\"bn\",\"gu\",\"kn\",\"mr\",\"or\",\"ta\",\"te\",\"ml\",\"pa\"]\n",
    "languages.sort()\n",
    "from re import sub\n",
    "maxlen=32\n",
    "import tensorflow as tf\n"
   ]
  },
  {
   "cell_type": "code",
   "execution_count": 3,
   "metadata": {
    "jupyter": {
     "outputs_hidden": false,
     "source_hidden": false
    },
    "nteract": {
     "transient": {
      "deleting": false
     }
    }
   },
   "outputs": [],
   "source": [
    "def one_hot_encoded(data):\n",
    "  integer_encoded=[]\n",
    "  for i in range(len(data)):\n",
    "    integer_encoded.append([val_to_int[char] for char in data[i]])\n",
    "  one_hot_encoded = []   \n",
    "  for i in integer_encoded:\n",
    "    letter = np.zeros(len(values))\n",
    "    for j in i:\n",
    "      letter[j]=1\n",
    "    one_hot_encoded.append(letter)\n",
    "  while(len(one_hot_encoded)<maxlen):\n",
    "    letter = np.zeros(len(values))\n",
    "    one_hot_encoded.append(letter)\n",
    "  return np.array(one_hot_encoded)\n",
    "\n",
    "def generate_iscii_map():\n",
    "  df=pd.read_csv('./iscii1.csv')\n",
    "  lang_map=[]\n",
    "  ls=dict()\n",
    "  for lang in languages:\n",
    "    ls=dict()\n",
    "    for i,j in zip(df.iscii,df[lang]):\n",
    "      if(j!=j):\n",
    "        continue\n",
    "      ls[j]=i\n",
    "    lang_map.append(ls)\n",
    "  return np.array(lang_map)\n",
    "\n",
    "\n",
    "def process(data):\n",
    "  iscii_encoded=[]\n",
    "  data= re.sub(r\"\\d+\",\"\",data)\n",
    "  #print(data)\n",
    "  for ch in data:\n",
    "    #print(ch)\n",
    "    for x in lang_map:\n",
    "      y=list(x.keys())\n",
    "      #print(y)\n",
    "      if(ch in y):\n",
    "          iscii_encoded.append(x[ch].capitalize())\n",
    "          break\n",
    "  return iscii_encoded\n",
    "\n",
    "def encode_labels(label):\n",
    "    temp = np.zeros(N_LANG)\n",
    "    i=languages.index(label)\n",
    "    temp[i] = 1\n",
    "    return temp"
   ]
  },
  {
   "cell_type": "code",
   "execution_count": 4,
   "metadata": {
    "jupyter": {
     "outputs_hidden": false,
     "source_hidden": false
    },
    "nteract": {
     "transient": {
      "deleting": false
     }
    }
   },
   "outputs": [],
   "source": [
    "#df=pd.read_csv('./iscii1.csv',).fillna(value=0)\n",
    "\n",
    "\n",
    "global lang_map\n",
    "lang_map=generate_iscii_map()\n"
   ]
  },
  {
   "cell_type": "code",
   "execution_count": 5,
   "metadata": {},
   "outputs": [
    {
     "data": {
      "text/plain": [
       "'/mnt/batch/tasks/shared/LS_root/mounts/clusters/hpesonal/code/Users/ganvir.sonal2000'"
      ]
     },
     "execution_count": 5,
     "metadata": {},
     "output_type": "execute_result"
    }
   ],
   "source": [
    "os.getcwd()"
   ]
  },
  {
   "cell_type": "code",
   "execution_count": 6,
   "metadata": {
    "jupyter": {
     "outputs_hidden": false,
     "source_hidden": false
    },
    "nteract": {
     "transient": {
      "deleting": false
     }
    }
   },
   "outputs": [
    {
     "name": "stdout",
     "output_type": "stream",
     "text": [
      "/mnt/batch/tasks/shared/LS_root/mounts/clusters/hpesonal/code/Users/ganvir.sonal2000/data\n"
     ]
    }
   ],
   "source": [
    "\n",
    "dirt='data'\n",
    "root=os.getcwd()\n",
    "try:\n",
    "    os.mkdir(os.path.join(root,dirt))\n",
    "except FileExistsError:\n",
    "    pass\n",
    "os.chdir(os.path.join(root,dirt))\n",
    "print(os.getcwd())\n",
    "\n"
   ]
  },
  {
   "cell_type": "code",
   "execution_count": 23,
   "metadata": {
    "jupyter": {
     "outputs_hidden": false,
     "source_hidden": false
    },
    "nteract": {
     "transient": {
      "deleting": false
     }
    }
   },
   "outputs": [
    {
     "name": "stdout",
     "output_type": "stream",
     "text": [
      "https://raw.githubusercontent.com/sonalgan/DeepLearning/master/words.csv\n"
     ]
    },
    {
     "data": {
      "text/plain": [
       "'\\nfor x in df[0]:\\n    if(pd.isna(x)):\\n          continue\\n    X.append(one_hot_encoded(process(x)))\\n    Y.append(lang)\\n!rm {fp}\\n'"
      ]
     },
     "execution_count": 23,
     "metadata": {},
     "output_type": "execute_result"
    }
   ],
   "source": [
    "    X=[]\n",
    "    Y=[]\n",
    "#path=\"https://hpedl.blob.core.windows.net/lang/\"\n",
    "\n",
    "    fp='https://raw.githubusercontent.com/sonalgan/DeepLearning/master/words.csv'\n",
    "    #fp=\"{}.csv\".format(lang)\n",
    "    #!wget  -nc {path+fp}\n",
    "    df=pd.read_csv(fp)\n",
    "    print(fp)\n",
    "    for x,y in zip(df.words,df.lang):\n",
    "        if(pd.isna(x)):\n",
    "              continue\n",
    "        if(len(x)<=maxlen):\n",
    "            X.append(one_hot_encoded(process(x)))\n",
    "            Y.append(encode_labels(y))\n",
    "    del df\n",
    "    X=np.array(X)\n",
    "    Y=np.array(Y)\n",
    "'''\n",
    "    for x in df[0]:\n",
    "        if(pd.isna(x)):\n",
    "              continue\n",
    "        X.append(one_hot_encoded(process(x)))\n",
    "        Y.append(lang)\n",
    "    !rm {fp}\n",
    "'''"
   ]
  },
  {
   "cell_type": "code",
   "execution_count": 8,
   "metadata": {},
   "outputs": [
    {
     "data": {
      "text/plain": [
       "(100000, 32, 23)"
      ]
     },
     "execution_count": 8,
     "metadata": {},
     "output_type": "execute_result"
    }
   ],
   "source": [
    "X.shape"
   ]
  },
  {
   "cell_type": "code",
   "execution_count": 9,
   "metadata": {},
   "outputs": [
    {
     "data": {
      "text/plain": [
       "(100000, 10)"
      ]
     },
     "execution_count": 9,
     "metadata": {},
     "output_type": "execute_result"
    }
   ],
   "source": [
    "Y.shape"
   ]
  },
  {
   "cell_type": "markdown",
   "metadata": {},
   "source": [
    "###Data Distribution "
   ]
  },
  {
   "cell_type": "code",
   "execution_count": 23,
   "metadata": {},
   "outputs": [
    {
     "data": {
      "image/png": "[encoded data removed]",
      "text/plain": [
       "<Figure size 288x288 with 1 Axes>"
      ]
     },
     "metadata": {
      "needs_background": "light"
     },
     "output_type": "display_data"
    },
    {
     "name": "stdout",
     "output_type": "stream",
     "text": [
      "9.263880117655143\n",
      "76\n"
     ]
    },
    {
     "data": {
      "image/png": "[encoded data removed]",
      "text/plain": [
       "<Figure size 288x288 with 1 Axes>"
      ]
     },
     "metadata": {
      "needs_background": "light"
     },
     "output_type": "display_data"
    }
   ],
   "source": [
    "\n",
    "\n",
    "\n",
    "import matplotlib.pyplot as plt\n",
    "from collections import Counter\n",
    "counts=Counter(Y)\n",
    "#counts=Counter(X)\n",
    "\n",
    "fig=plt.figure(figsize=(4,4))\n",
    "x,y=zip(*counts.items())\n",
    "ax = fig.add_axes([0,0,1,1])\n",
    "ax.bar(x,y)\n",
    "plt.show()\n",
    "counts=Counter(X)\n",
    "sum_of_numbers = sum(number*count for number, count in counts.items())\n",
    "count = sum(count for n, count in counts.items())\n",
    "mean = sum_of_numbers / count\n",
    "print(mean)\n",
    "fig=plt.figure(figsize=(4,4))\n",
    "x,y=zip(*counts.items())\n",
    "ax = fig.add_axes([0,0,1,1])\n",
    "ax.bar(x,y)\n",
    "plt.show()\n",
    "\n"
   ]
  },
  {
   "cell_type": "code",
   "execution_count": 1,
   "metadata": {},
   "outputs": [
    {
     "name": "stderr",
     "output_type": "stream",
     "text": [
      "Using TensorFlow backend.\n"
     ]
    }
   ],
   "source": [
    "from sklearn.model_selection import train_test_split\n",
    "from keras.models import Sequential\n",
    "from keras.layers import Dense,Flatten\n",
    "from keras.callbacks import ModelCheckpoint, TensorBoard\n",
    "from keras.callbacks import EarlyStopping\n",
    "from keras.layers import Dropout\n",
    "from keras.constraints import maxnorm\n",
    "from keras.wrappers.scikit_learn import KerasClassifier\n",
    "from sklearn.model_selection import GridSearchCV"
   ]
  },
  {
   "cell_type": "code",
   "execution_count": 6,
   "metadata": {},
   "outputs": [],
   "source": [
    "model = Sequential()\n",
    "model.add(Flatten())\n",
    "model.add(Dense(0, input_dim=23*32, activation='sigmoid',kernel_constraint=maxnorm(4)))\n",
    "model.add(Dense(0, activation='sigmoid'))\n",
    "    #if(args.dropout1!=0)\n",
    "model.add(Dropout(0))"
   ]
  },
  {
   "cell_type": "code",
   "execution_count": 46,
   "metadata": {},
   "outputs": [],
   "source": [
    "def getmodel(dropout_rate=0.0, weight_constraint=0):\n",
    "    model = Sequential()\n",
    "    model.add(Flatten())\n",
    "    model.add(Dense(600, input_dim=23*maxlen, activation='sigmoid',kernel_constraint=maxnorm(weight_constraint)))\n",
    "    model.add(Dense(400, activation='sigmoid'))\n",
    "    model.add(Dropout(dropout_rate))\n",
    "    model.add(Dense(200, activation='sigmoid'))\n",
    "    model.add(Dropout(dropout_rate))\n",
    "    model.add(Dense(100, activation='sigmoid'))\n",
    "    model.add(Dropout(dropout_rate))\n",
    "    model.add(Dense(N_LANG, activation='softmax'))\n",
    "\n",
    "    model.compile(loss='binary_crossentropy', optimizer='adam', metrics=['accuracy'])\n",
    "    return model"
   ]
  },
  {
   "cell_type": "code",
   "execution_count": null,
   "metadata": {},
   "outputs": [],
   "source": [
    "model.summary()"
   ]
  },
  {
   "cell_type": "markdown",
   "metadata": {},
   "source": [
    "# Grid Search"
   ]
  },
  {
   "cell_type": "code",
   "execution_count": 22,
   "metadata": {
    "scrolled": false
   },
   "outputs": [
    {
     "name": "stdout",
     "output_type": "stream",
     "text": [
      "0.1\n",
      "accuracy: 93.78% loss 0.1662600569009781\n",
      "0.15\n",
      "accuracy: 93.25% loss 0.18347576971054078\n",
      "0.2\n",
      "accuracy: 93.65% loss 0.17142441487312318\n",
      "0.25\n",
      "accuracy: 93.55% loss 0.17419633105278015\n",
      "0.3\n",
      "accuracy: 93.30% loss 0.1815960068066915\n"
     ]
    },
    {
     "ename": "NameError",
     "evalue": "name 'numpy' is not defined",
     "output_type": "error",
     "traceback": [
      "\u001b[0;31m---------------------------------------------------------------------------\u001b[0m",
      "\u001b[0;31mNameError\u001b[0m                                 Traceback (most recent call last)",
      "\u001b[0;32m<ipython-input-22-e01712783124>\u001b[0m in \u001b[0;36m<module>\u001b[0;34m\u001b[0m\n\u001b[1;32m     11\u001b[0m     \u001b[0mcvscores\u001b[0m\u001b[0;34m.\u001b[0m\u001b[0mappend\u001b[0m\u001b[0;34m(\u001b[0m\u001b[0mscores\u001b[0m\u001b[0;34m[\u001b[0m\u001b[0;36m1\u001b[0m\u001b[0;34m]\u001b[0m \u001b[0;34m*\u001b[0m \u001b[0;36m100\u001b[0m\u001b[0;34m)\u001b[0m\u001b[0;34m\u001b[0m\u001b[0;34m\u001b[0m\u001b[0m\n\u001b[1;32m     12\u001b[0m     \u001b[0mhistorys\u001b[0m\u001b[0;34m.\u001b[0m\u001b[0mappend\u001b[0m\u001b[0;34m(\u001b[0m\u001b[0mhistory\u001b[0m\u001b[0;34m)\u001b[0m\u001b[0;34m\u001b[0m\u001b[0;34m\u001b[0m\u001b[0m\n\u001b[0;32m---> 13\u001b[0;31m \u001b[0mprint\u001b[0m\u001b[0;34m(\u001b[0m\u001b[0;34m\"%.2f%% (+/- %.2f%%)\"\u001b[0m \u001b[0;34m%\u001b[0m \u001b[0;34m(\u001b[0m\u001b[0mnumpy\u001b[0m\u001b[0;34m.\u001b[0m\u001b[0mmean\u001b[0m\u001b[0;34m(\u001b[0m\u001b[0mcvscores\u001b[0m\u001b[0;34m)\u001b[0m\u001b[0;34m,\u001b[0m \u001b[0mnumpy\u001b[0m\u001b[0;34m.\u001b[0m\u001b[0mstd\u001b[0m\u001b[0;34m(\u001b[0m\u001b[0mcvscores\u001b[0m\u001b[0;34m)\u001b[0m\u001b[0;34m)\u001b[0m\u001b[0;34m)\u001b[0m\u001b[0;34m\u001b[0m\u001b[0;34m\u001b[0m\u001b[0m\n\u001b[0m",
      "\u001b[0;31mNameError\u001b[0m: name 'numpy' is not defined"
     ]
    }
   ],
   "source": [
    "sizes=[0.10,0.15,0.20,0.25,0.30]\n",
    "cvscores=[]\n",
    "historys=[]\n",
    "for size in sizes:\n",
    "    print(size)\n",
    "    X_train, X_test, y_train, y_test = train_test_split(X, Y,shuffle=True, test_size=size)\n",
    "    model=getmodel()\n",
    "    history=model.fit(X_train, y_train, epochs=100, batch_size=1024, callbacks=[es],verbose=0,shuffle=True)\n",
    "    scores = model.evaluate(X_test, y_test, verbose=0)\n",
    "    print(\"%s: %.2f%%\" % (model.metrics_names[1], scores[1]*100),model.metrics_names[0],scores[0])\n",
    "    cvscores.append(scores[1] * 100)\n",
    "    historys.append(history)\n",
    "print(\"%.2f%% (+/- %.2f%%)\" % (numpy.mean(cvscores), numpy.std(cvscores)))"
   ]
  },
  {
   "cell_type": "code",
   "execution_count": 37,
   "metadata": {},
   "outputs": [
    {
     "name": "stdout",
     "output_type": "stream",
     "text": [
      "{'optimizer': ['sgd', 'rmsprop', 'adagrad', 'adadelta', 'adam', 'adamax', 'nadam']}\n",
      "WARNING:tensorflow:From /anaconda/envs/azureml_py36/lib/python3.6/site-packages/tensorflow_core/python/ops/resource_variable_ops.py:1630: calling BaseResourceVariable.__init__ (from tensorflow.python.ops.resource_variable_ops) with constraint is deprecated and will be removed in a future version.\n",
      "Instructions for updating:\n",
      "If using Keras pass *_constraint arguments to layers.\n",
      "WARNING:tensorflow:From /anaconda/envs/azureml_py36/lib/python3.6/site-packages/tensorflow_core/python/ops/math_grad.py:1424: where (from tensorflow.python.ops.array_ops) is deprecated and will be removed in a future version.\n",
      "Instructions for updating:\n",
      "Use tf.where in 2.0, which has the same broadcast rule as np.where\n",
      "WARNING:tensorflow:From /anaconda/envs/azureml_py36/lib/python3.6/site-packages/keras/backend/tensorflow_backend.py:422: The name tf.global_variables is deprecated. Please use tf.compat.v1.global_variables instead.\n",
      "\n",
      "Best: 0.900001 using {'optimizer': 'sgd'}\n",
      "0.900001 (0.000000) with: {'optimizer': 'sgd'}\n",
      "0.859030 (0.007834) with: {'optimizer': 'rmsprop'}\n",
      "0.857956 (0.005153) with: {'optimizer': 'adagrad'}\n",
      "0.900001 (0.000000) with: {'optimizer': 'adadelta'}\n",
      "0.854720 (0.010320) with: {'optimizer': 'adam'}\n",
      "0.858289 (0.006534) with: {'optimizer': 'adamax'}\n",
      "0.838831 (0.015135) with: {'optimizer': 'nadam'}\n"
     ]
    }
   ],
   "source": [
    "seed = 7\n",
    "np.random.seed(seed)\n",
    "# load dataset\n",
    "# create model\n",
    "model = KerasClassifier(build_fn=getmodel, epochs=100, batch_size=1024, verbose=0)\n",
    "# define the grid search parameters\n",
    "optimizer = ['sgd', 'rmsprop', 'adagrad', 'adadelta', 'adam', 'adamax', 'nadam']\n",
    "\n",
    "param_grid = dict(optimizer=optimizer)\n",
    "print(param_grid )\n",
    "grid = GridSearchCV(estimator=model, param_grid=param_grid, n_jobs=-1, cv=3)\n",
    "grid_result = grid.fit(X, Y)\n",
    "# summarize results\n",
    "print(\"Best: %f using %s\" % (grid_result.best_score_, grid_result.best_params_))\n",
    "means = grid_result.cv_results_['mean_test_score']\n",
    "stds = grid_result.cv_results_['std_test_score']\n",
    "params = grid_result.cv_results_['params']\n",
    "for mean, stdev, param in zip(means, stds, params):\n",
    "    print(\"%f (%f) with: %r\" % (mean, stdev, param))"
   ]
  },
  {
   "cell_type": "code",
   "execution_count": 44,
   "metadata": {},
   "outputs": [
    {
     "name": "stdout",
     "output_type": "stream",
     "text": [
      "{'optimizer': ['sgd', 'rmsprop', 'adagrad', 'adadelta', 'adam', 'adamax', 'nadam']}\n",
      "Fitting 3 folds for each of 7 candidates, totalling 21 fits\n"
     ]
    },
    {
     "name": "stderr",
     "output_type": "stream",
     "text": [
      "[Parallel(n_jobs=-1)]: Using backend LokyBackend with 6 concurrent workers.\n",
      "[Parallel(n_jobs=-1)]: Done  21 out of  21 | elapsed: 70.6min remaining:    0.0s\n",
      "[Parallel(n_jobs=-1)]: Done  21 out of  21 | elapsed: 70.6min finished\n"
     ]
    },
    {
     "name": "stdout",
     "output_type": "stream",
     "text": [
      "Best: 0.900001 using {'optimizer': 'sgd'}\n",
      "0.900001 (0.000000) with: {'optimizer': 'sgd'}\n",
      "0.846468 (0.012173) with: {'optimizer': 'rmsprop'}\n",
      "0.857781 (0.006530) with: {'optimizer': 'adagrad'}\n",
      "0.900001 (0.000000) with: {'optimizer': 'adadelta'}\n",
      "0.845594 (0.014295) with: {'optimizer': 'adam'}\n",
      "0.854763 (0.010583) with: {'optimizer': 'adamax'}\n",
      "0.832824 (0.013646) with: {'optimizer': 'nadam'}\n"
     ]
    }
   ],
   "source": [
    "seed = 7\n",
    "np.random.seed(seed)\n",
    "# load dataset\n",
    "# create mode\n",
    "model = KerasClassifier(build_fn=getmodel, epochs=200, batch_size=1024, verbose=0)\n",
    "# define the grid search parameters\n",
    "optimizer = ['sgd', 'rmsprop', 'adagrad', 'adadelta', 'adam', 'adamax', 'nadam']\n",
    "\n",
    "param_grid = dict(optimizer=optimizer)\n",
    "print(param_grid )\n",
    "grid = GridSearchCV(estimator=model, param_grid=param_grid, n_jobs=-1, cv=3,verbose=2)\n",
    "grid_result = grid.fit(X, Y)\n",
    "# summarize results\n",
    "print(\"Best: %f using %s\" % (grid_result.best_score_, grid_result.best_params_))\n",
    "means = grid_result.cv_results_['mean_test_score']\n",
    "stds = grid_result.cv_results_['std_test_score']\n",
    "params = grid_result.cv_results_['params']\n",
    "for mean, stdev, param in zip(means, stds, params):\n",
    "    print(\"%f (%f) with: %r\" % (mean, stdev, param))"
   ]
  },
  {
   "cell_type": "code",
   "execution_count": null,
   "metadata": {},
   "outputs": [],
   "source": [
    "seed = 7\n",
    "np.random.seed(seed)\n",
    "# load dataset\n",
    "\n",
    "# create model\n",
    "model = KerasClassifier(build_fn=getmodel, epochs=100, batch_size=1024, verbose=0)\n",
    "# define the grid search parameters\n",
    "weight_constraint = [1, 2, 3, 4, 5]\n",
    "dropout_rate = [0.0, 0.1, 0.2, 0.3, 0.4, 0.5, 0.6, 0.7, 0.8, 0.9]\n",
    "param_grid = dict(dropout_rate=dropout_rate, weight_constraint=weight_constraint)\n",
    "grid = GridSearchCV(estimator=model, param_grid=param_grid, n_jobs=-1, cv=3)\n",
    "grid_result = grid.fit(X, Y)\n",
    "# summarize results\n",
    "print(\"Best: %f using %s\" % (grid_result.best_score_, grid_result.best_params_))\n",
    "means = grid_result.cv_results_['mean_test_score']\n",
    "stds = grid_result.cv_results_['std_test_score']\n",
    "params = grid_result.cv_results_['params']\n",
    "for mean, stdev, param in zip(means, stds, params):\n",
    "    print(\"%f (%f) with: %r\" % (mean, stdev, param))"
   ]
  },
  {
   "cell_type": "code",
   "execution_count": 18,
   "metadata": {},
   "outputs": [],
   "source": [
    "test_no=6"
   ]
  },
  {
   "cell_type": "code",
   "execution_count": 19,
   "metadata": {},
   "outputs": [],
   "source": [
    "filepath = \"./weights{}.hdf5\".format(test_no)\n",
    "checkpoint = ModelCheckpoint(filepath, monitor='val_accuracy', verbose=1, save_best_only=True, mode='max')\n",
    "tboard = TensorBoard(log_dir='./logs', write_graph=True, write_images=True)\n",
    "es = EarlyStopping(monitor='loss', mode='min', verbose=1,patience=50)\n",
    "callbacks_list = [checkpoint, tboard,es]\n",
    "\n",
    "#history=model.fit(X_train, y_train, epochs=200, batch_size=1024, validation_data=(X_test, y_test), callbacks=callbacks_list,verbose=1,shuffle=True)"
   ]
  },
  {
   "cell_type": "code",
   "execution_count": 43,
   "metadata": {},
   "outputs": [],
   "source": [
    "%load_ext tensorboard"
   ]
  },
  {
   "cell_type": "code",
   "execution_count": 44,
   "metadata": {
    "collapsed": true
   },
   "outputs": [
    {
     "data": {
      "text/html": [
       "\n",
       "      <iframe id=\"tensorboard-frame-84914d7cf7ef3386\" width=\"100%\" height=\"800\" frameborder=\"0\">\n",
       "      </iframe>\n",
       "      <script>\n",
       "        (function() {\n",
       "          const frame = document.getElementById(\"tensorboard-frame-84914d7cf7ef3386\");\n",
       "          const url = new URL(\"/\", window.location);\n",
       "          url.port = 6006;\n",
       "          frame.src = url;\n",
       "        })();\n",
       "      </script>\n",
       "  "
      ],
      "text/plain": [
       "<IPython.core.display.HTML object>"
      ]
     },
     "metadata": {},
     "output_type": "display_data"
    }
   ],
   "source": [
    "logs_base_dir = \"./logs\"\n",
    "os.makedirs(logs_base_dir, exist_ok=True)\n",
    "%tensorboard --logdir {logs_base_dir} --port 6006"
   ]
  },
  {
   "cell_type": "code",
   "execution_count": 26,
   "metadata": {},
   "outputs": [],
   "source": [
    "import matplotlib.pyplot as plt\n",
    "plt.style.use('ggplot')\n",
    "\n",
    "def plot_history(history):\n",
    "    acc = history.history['accuracy']\n",
    "    val_acc = history.history['val_accuracy']\n",
    "    loss = history.history['loss']\n",
    "    val_loss = history.history['val_loss']\n",
    "    x = range(1, len(acc) + 1)\n",
    "\n",
    "    plt.figure(figsize=(12, 5))\n",
    "    plt.subplot(1, 2, 1)\n",
    "    plt.plot(x, acc, 'b', label='Training acc')\n",
    "    plt.plot(x, val_acc, 'r', label='Validation acc')\n",
    "    plt.title('Training and validation accuracy')\n",
    "    plt.legend()\n",
    "    plt.subplot(1, 2, 2)\n",
    "    plt.plot(x, loss, 'b', label='Training loss')\n",
    "    plt.plot(x, val_loss, 'r', label='Validation loss')\n",
    "    plt.title('Training and validation loss')\n",
    "    plt.legend()"
   ]
  },
  {
   "cell_type": "code",
   "execution_count": 19,
   "metadata": {},
   "outputs": [
    {
     "data": {
      "image/png": "[encoded data removed]",
      "text/plain": [
       "<Figure size 864x360 with 2 Axes>"
      ]
     },
     "metadata": {},
     "output_type": "display_data"
    }
   ],
   "source": [
    "\n",
    "plot_history(test_no,history)\n",
    "\n"
   ]
  },
  {
   "cell_type": "code",
   "execution_count": null,
   "metadata": {},
   "outputs": [],
   "source": []
  }
 ],
 "metadata": {
  "kernel_info": {
   "name": "python3-azureml"
  },
  "kernelspec": {
   "display_name": "Python 3.6 - AzureML",
   "language": "python",
   "name": "python3-azureml"
  },
  "language_info": {
   "codemirror_mode": {
    "name": "ipython",
    "version": 3
   },
   "file_extension": ".py",
   "mimetype": "text/x-python",
   "name": "python",
   "nbconvert_exporter": "python",
   "pygments_lexer": "ipython3",
   "version": "3.6.9"
  },
  "nteract": {
   "version": "nteract-front-end@1.0.0"
  }
 },
 "nbformat": 4,
 "nbformat_minor": 2
}
