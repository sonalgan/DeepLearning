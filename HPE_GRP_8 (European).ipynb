{
  "cells": [
    {
      "cell_type": "code",
      "source": [
        "#pip3 install tensorflow==1.15.2\r\n",
        "#pip3 install joblib\r\n",
        "#in cmd"
      ],
      "outputs": [],
      "execution_count": 5,
      "metadata": {
        "collapsed": true,
        "jupyter": {
          "source_hidden": false,
          "outputs_hidden": false
        },
        "nteract": {
          "transient": {
            "deleting": false
          }
        },
        "gather": {
          "logged": 1612975857875
        }
      }
    },
    {
      "cell_type": "markdown",
      "source": [
        "One-Hot_Encoding"
      ],
      "metadata": {
        "nteract": {
          "transient": {
            "deleting": false
          }
        }
      }
    },
    {
      "cell_type": "code",
      "source": [
        "import numpy as np\r\n",
        "import re\r\n",
        "import numpy as np\r\n",
        "import pandas as pd\r\n",
        "global alphabet\r\n",
        "global maxlen\r\n",
        "global N_LANG\r\n",
        "N_LANG=10\r\n",
        "maxlen=13 #max word lenght 13\r\n",
        "alphabet = \"abcdefghijklmnopqrstuvwxyzíóéáñúüäßöàèêçôùîûâìòźåãõíłęążśćńøæ\" #61 different character found in 10 European different Language\r\n",
        "def one_hot_encode(data):\r\n",
        "  char_to_int = dict((c, i) for i, c in enumerate(alphabet))\r\n",
        "  integer_encoded = [char_to_int[char] for char in data]\r\n",
        "  onehot_encoded = []\r\n",
        "  for value in integer_encoded:\r\n",
        "    letter = np.zeros(len(alphabet))\r\n",
        "    letter[value] = 1\r\n",
        "    onehot_encoded.append(letter)\r\n",
        "  while(len(onehot_encoded)<maxlen):\r\n",
        "    letter = np.zeros(len(alphabet))\r\n",
        "    onehot_encoded.append(letter)\r\n",
        "  return  np.array(onehot_encoded)\r\n",
        "\r\n",
        "def encode_labels(label):\r\n",
        "  temp = np.zeros(N_LANG)\r\n",
        "  temp[label-1] = 1\r\n",
        "  return temp\r\n",
        "\r\n",
        "def process(test_str):\r\n",
        "  test_str=test_str.lower()\r\n",
        "  test_str = re.sub(r'[^a-zA-Z ]', '', test_str)\r\n",
        "  return test_str"
      ],
      "outputs": [],
      "execution_count": 6,
      "metadata": {
        "gather": {
          "logged": 1612975939216
        }
      }
    },
    {
      "cell_type": "markdown",
      "source": [
        "After cleaning the data from total 100k words of each language then upload at github,total words of each language\r\n",
        "\r\n",
        "English:-93054 words\r\n",
        ", Danish:-96825 words\r\n",
        ", Dutch:-96698 words\r\n",
        ", French:-95564 words\r\n",
        ", German:-97447 words\r\n",
        ", Italin:-96847 words\r\n",
        ", Polish:-98181 words\r\n",
        ", Portuguese:-96429 words\r\n",
        ", Spanish:-97058 words\r\n",
        ", Swedish:-96870 words\r\n",
        "\r\n",
        "Loading the data and then encoding the words with respect to language."
      ],
      "metadata": {
        "nteract": {
          "transient": {
            "deleting": false
          }
        }
      }
    },
    {
      "cell_type": "code",
      "source": [
        "x=[]\r\n",
        "y=[]\r\n",
        "df=pd.read_csv('https://github.com/404S-retr0/HPE_Project_Grp-8/blob/main/Data_Wordlists.csv?raw=true')\r\n",
        "for word,lang in zip(df.WORDS,df.LANGAUAGE_VECTOR):\r\n",
        "    if(pd.isna(word)):\r\n",
        "      continue\r\n",
        "    if(len(word)<=maxlen):\r\n",
        "      x.append(one_hot_encode(process(word)))\r\n",
        "      y.append(encode_labels(int(lang)))\r\n",
        "x=np.array(x)\r\n",
        "print(x.shape)\r\n",
        "y=np.array(y)\r\n",
        "print(y.shape)"
      ],
      "outputs": [
        {
          "output_type": "stream",
          "name": "stdout",
          "text": [
            "(905779, 13, 61)\n",
            "(905779, 10)\n"
          ]
        }
      ],
      "execution_count": 7,
      "metadata": {
        "collapsed": true,
        "jupyter": {
          "source_hidden": false,
          "outputs_hidden": false
        },
        "nteract": {
          "transient": {
            "deleting": false
          }
        },
        "gather": {
          "logged": 1612975985053
        }
      }
    },
    {
      "cell_type": "code",
      "source": [
        "from sklearn.model_selection import train_test_split\r\n",
        "from keras.models import Sequential\r\n",
        "from keras.layers import Dense,Flatten\r\n",
        "x_train,x_test,y_train,y_test=train_test_split(x,y,test_size=0.5)\r\n",
        "def getmodel():\r\n",
        "    model = Sequential()\r\n",
        "    model.add(Flatten())\r\n",
        "    model.add(Dense(200, input_dim=61*maxlen, activation='sigmoid'))\r\n",
        "    model.add(Dense(150, activation='sigmoid'))\r\n",
        "    model.add(Dense(100, activation='sigmoid'))\r\n",
        "    model.add(Dense(50, activation='sigmoid'))\r\n",
        "    model.add(Dense(25, activation='sigmoid'))\r\n",
        "    model.add(Dense(N_LANG, activation='softmax'))\r\n",
        "    model.compile(loss='binary_crossentropy', optimizer='adam', metrics=['accuracy'])\r\n",
        "    return model"
      ],
      "outputs": [],
      "execution_count": 27,
      "metadata": {
        "collapsed": true,
        "jupyter": {
          "source_hidden": false,
          "outputs_hidden": false
        },
        "nteract": {
          "transient": {
            "deleting": false
          }
        },
        "gather": {
          "logged": 1612977656531
        }
      }
    },
    {
      "cell_type": "markdown",
      "source": [
        "Getting the best model without overfitting."
      ],
      "metadata": {
        "nteract": {
          "transient": {
            "deleting": false
          }
        }
      }
    },
    {
      "cell_type": "code",
      "source": [
        "from keras.callbacks import ModelCheckpoint,EarlyStopping\r\n",
        "filepath = \"w.hdf5\"\r\n",
        "checkpoint = ModelCheckpoint(filepath, monitor='val_accuracy', verbose=1, save_best_only=True, mode='max')\r\n",
        "es = EarlyStopping(monitor='val_loss', mode='min', verbose=1,patience=2)\r\n",
        "callbacks_list = [checkpoint,es]\r\n",
        "modelupd=getmodel()\r\n",
        "history=modelupd.fit(x_train,y_train, epochs=50, batch_size=500, validation_data=(x_test,y_test),callbacks=callbacks_list,verbose=1)"
      ],
      "outputs": [
        {
          "output_type": "stream",
          "name": "stdout",
          "text": [
            "Train on 452889 samples, validate on 452890 samples\n",
            "Epoch 1/50\n",
            "452889/452889 [==============================] - 8s 18us/step - loss: 0.3173 - accuracy: 0.9001 - val_loss: 0.2982 - val_accuracy: 0.9024\b\b\b\b\b\b\b\b\b\b\b\b\b\b\b\b\b\b\b\b\b\b\b\b\b\b\b\b\b\b\b\b\b\b\b\b\b\b\b\b\b\b\b\b\b\b\b\n",
            "\n",
            "Epoch 00001: val_accuracy improved from -inf to 0.90242, saving model to w.hdf5\n",
            "Epoch 2/50\n",
            "452889/452889 [==============================] - 8s 17us/step - loss: 0.2841 - accuracy: 0.9042 - val_loss: 0.2807 - val_accuracy: 0.9044\b\b\b\b\b\b\b\b\b\b\b\b\b\b\b\b\b\b\b\b\b\b\b\b\b\b\b\b\b\b\b\b\b\b\b\b\b\b\b\b\b\b\b\b\b\n",
            "\n",
            "Epoch 00002: val_accuracy improved from 0.90242 to 0.90442, saving model to w.hdf5\n",
            "Epoch 3/50\n",
            "452889/452889 [==============================] - 7s 17us/step - loss: 0.2791 - accuracy: 0.9045 - val_loss: 0.2778 - val_accuracy: 0.9044\b\b\b\b\b\b\b\b\b\b\b\b\b\b\b\b\b\b\b\b\b\b\b\b\b\b\b\b\b\b\b\b\b\b\b\b\b\b\b\b\b\b\b\b\b\n",
            "\n",
            "Epoch 00003: val_accuracy improved from 0.90442 to 0.90444, saving model to w.hdf5\n",
            "Epoch 4/50\n",
            "452889/452889 [==============================] - 7s 17us/step - loss: 0.2750 - accuracy: 0.9046 - val_loss: 0.2727 - val_accuracy: 0.9047\b\b\b\b\b\b\b\b\b\b\b\b\b\b\b\b\b\b\b\b\b\b\b\b\b\b\b\b\b\b\b\b\b\b\b\b\b\b\b\b\b\b\b\b\b\n",
            "\n",
            "Epoch 00004: val_accuracy improved from 0.90444 to 0.90468, saving model to w.hdf5\n",
            "Epoch 5/50\n",
            "452889/452889 [==============================] - 8s 17us/step - loss: 0.2708 - accuracy: 0.9049 - val_loss: 0.2695 - val_accuracy: 0.9053\b\b\b\b\b\b\b\b\b\b\b\b\b\b\b\b\b\b\b\b\b\b\b\b\b\b\b\b\b\b\b\b\b\b\b\b\b\b\b\b\b\b\b\b\b\n",
            "\n",
            "Epoch 00005: val_accuracy improved from 0.90468 to 0.90532, saving model to w.hdf5\n",
            "Epoch 6/50\n",
            "452889/452889 [==============================] - 7s 16us/step - loss: 0.2678 - accuracy: 0.9057 - val_loss: 0.2664 - val_accuracy: 0.9060\b\b\b\b\b\b\b\b\b\b\b\b\b\b\b\b\b\b\b\b\b\b\b\b\b\b\b\b\b\b\b\b\b\b\b\b\b\b\b\b\b\b\b\b\b\n",
            "\n",
            "Epoch 00006: val_accuracy improved from 0.90532 to 0.90599, saving model to w.hdf5\n",
            "Epoch 7/50\n",
            "452889/452889 [==============================] - 7s 17us/step - loss: 0.2648 - accuracy: 0.9062 - val_loss: 0.2632 - val_accuracy: 0.9065\b\b\b\b\b\b\b\b\b\b\b\b\b\b\b\b\b\b\b\b\b\b\b\b\b\b\b\b\b\b\b\b\b\b\b\b\b\b\b\b\b\b\b\b\b\n",
            "\n",
            "Epoch 00007: val_accuracy improved from 0.90599 to 0.90649, saving model to w.hdf5\n",
            "Epoch 8/50\n",
            "452889/452889 [==============================] - 7s 17us/step - loss: 0.2615 - accuracy: 0.9067 - val_loss: 0.2597 - val_accuracy: 0.9070\b\b\b\b\b\b\b\b\b\b\b\b\b\b\b\b\b\b\b\b\b\b\b\b\b\b\b\b\b\b\b\b\b\b\b\b\b\b\b\b\b\b\b\b\b\n",
            "\n",
            "Epoch 00008: val_accuracy improved from 0.90649 to 0.90701, saving model to w.hdf5\n",
            "Epoch 9/50\n",
            "452889/452889 [==============================] - 8s 17us/step - loss: 0.2590 - accuracy: 0.9073 - val_loss: 0.2582 - val_accuracy: 0.9074\b\b\b\b\b\b\b\b\b\b\b\b\b\b\b\b\b\b\b\b\b\b\b\b\b\b\b\b\b\b\b\b\b\b\b\b\b\b\b\b\b\b\b\b\b\n",
            "\n",
            "Epoch 00009: val_accuracy improved from 0.90701 to 0.90744, saving model to w.hdf5\n",
            "Epoch 10/50\n",
            "452889/452889 [==============================] - 8s 17us/step - loss: 0.2570 - accuracy: 0.9078 - val_loss: 0.2558 - val_accuracy: 0.9080\b\b\b\b\b\b\b\b\b\b\b\b\b\b\b\b\b\b\b\b\b\b\b\b\b\b\b\b\b\b\b\b\b\b\b\b\b\b\b\b\b\b\b\b\b\n",
            "\n",
            "Epoch 00010: val_accuracy improved from 0.90744 to 0.90805, saving model to w.hdf5\n",
            "Epoch 11/50\n",
            "452889/452889 [==============================] - 8s 17us/step - loss: 0.2553 - accuracy: 0.9083 - val_loss: 0.2541 - val_accuracy: 0.9085\b\b\b\b\b\b\b\b\b\b\b\b\b\b\b\b\b\b\b\b\b\b\b\b\b\b\b\b\b\b\b\b\b\b\b\b\b\b\b\b\b\b\b\b\b\n",
            "\n",
            "Epoch 00011: val_accuracy improved from 0.90805 to 0.90847, saving model to w.hdf5\n",
            "Epoch 12/50\n",
            "452889/452889 [==============================] - 8s 17us/step - loss: 0.2536 - accuracy: 0.9088 - val_loss: 0.2529 - val_accuracy: 0.9091\b\b\b\b\b\b\b\b\b\b\b\b\b\b\b\b\b\b\b\b\b\b\b\b\b\b\b\b\b\b\b\b\b\b\b\b\b\b\b\b\b\b\b\b\b\n",
            "\n",
            "Epoch 00012: val_accuracy improved from 0.90847 to 0.90906, saving model to w.hdf5\n",
            "Epoch 13/50\n",
            "452889/452889 [==============================] - 7s 17us/step - loss: 0.2518 - accuracy: 0.9094 - val_loss: 0.2515 - val_accuracy: 0.9096\b\b\b\b\b\b\b\b\b\b\b\b\b\b\b\b\b\b\b\b\b\b\b\b\b\b\b\b\b\b\b\b\b\b\b\b\b\b\b\b\b\b\b\b\b\n",
            "\n",
            "Epoch 00013: val_accuracy improved from 0.90906 to 0.90957, saving model to w.hdf5\n",
            "Epoch 14/50\n",
            "452889/452889 [==============================] - 7s 17us/step - loss: 0.2503 - accuracy: 0.9100 - val_loss: 0.2513 - val_accuracy: 0.9099\b\b\b\b\b\b\b\b\b\b\b\b\b\b\b\b\b\b\b\b\b\b\b\b\b\b\b\b\b\b\b\b\b\b\b\b\b\b\b\b\b\b\b\b\b\n",
            "\n",
            "Epoch 00014: val_accuracy improved from 0.90957 to 0.90995, saving model to w.hdf5\n",
            "Epoch 15/50\n",
            "452889/452889 [==============================] - 8s 17us/step - loss: 0.2485 - accuracy: 0.9106 - val_loss: 0.2478 - val_accuracy: 0.9108\b\b\b\b\b\b\b\b\b\b\b\b\b\b\b\b\b\b\b\b\b\b\b\b\b\b\b\b\b\b\b\b\b\b\b\b\b\b\b\b\b\b\b\b\b\n",
            "\n",
            "Epoch 00015: val_accuracy improved from 0.90995 to 0.91077, saving model to w.hdf5\n",
            "Epoch 16/50\n",
            "452889/452889 [==============================] - 7s 17us/step - loss: 0.2467 - accuracy: 0.9111 - val_loss: 0.2462 - val_accuracy: 0.9113\b\b\b\b\b\b\b\b\b\b\b\b\b\b\b\b\b\b\b\b\b\b\b\b\b\b\b\b\b\b\b\b\b\b\b\b\b\b\b\b\b\b\b\b\b\n",
            "\n",
            "Epoch 00016: val_accuracy improved from 0.91077 to 0.91134, saving model to w.hdf5\n",
            "Epoch 17/50\n",
            "452889/452889 [==============================] - 8s 17us/step - loss: 0.2450 - accuracy: 0.9117 - val_loss: 0.2447 - val_accuracy: 0.9119\b\b\b\b\b\b\b\b\b\b\b\b\b\b\b\b\b\b\b\b\b\b\b\b\b\b\b\b\b\b\b\b\b\b\b\b\b\b\b\b\b\b\b\b\b\n",
            "\n",
            "Epoch 00017: val_accuracy improved from 0.91134 to 0.91185, saving model to w.hdf5\n",
            "Epoch 18/50\n",
            "452889/452889 [==============================] - 8s 17us/step - loss: 0.2432 - accuracy: 0.9123 - val_loss: 0.2427 - val_accuracy: 0.9123\b\b\b\b\b\b\b\b\b\b\b\b\b\b\b\b\b\b\b\b\b\b\b\b\b\b\b\b\b\b\b\b\b\b\b\b\b\b\b\b\b\b\b\b\b\n",
            "\n",
            "Epoch 00018: val_accuracy improved from 0.91185 to 0.91235, saving model to w.hdf5\n",
            "Epoch 19/50\n",
            "452889/452889 [==============================] - 8s 17us/step - loss: 0.2417 - accuracy: 0.9127 - val_loss: 0.2415 - val_accuracy: 0.9128\b\b\b\b\b\b\b\b\b\b\b\b\b\b\b\b\b\b\b\b\b\b\b\b\b\b\b\b\b\b\b\b\b\b\b\b\b\b\b\b\b\b\b\b\b\n",
            "\n",
            "Epoch 00019: val_accuracy improved from 0.91235 to 0.91279, saving model to w.hdf5\n",
            "Epoch 20/50\n",
            "452889/452889 [==============================] - 8s 17us/step - loss: 0.2399 - accuracy: 0.9134 - val_loss: 0.2400 - val_accuracy: 0.9135\b\b\b\b\b\b\b\b\b\b\b\b\b\b\b\b\b\b\b\b\b\b\b\b\b\b\b\b\b\b\b\b\b\b\b\b\b\b\b\b\b\b\b\b\b\n",
            "\n",
            "Epoch 00020: val_accuracy improved from 0.91279 to 0.91345, saving model to w.hdf5\n",
            "Epoch 21/50\n",
            "452889/452889 [==============================] - 8s 17us/step - loss: 0.2381 - accuracy: 0.9141 - val_loss: 0.2382 - val_accuracy: 0.9140\b\b\b\b\b\b\b\b\b\b\b\b\b\b\b\b\b\b\b\b\b\b\b\b\b\b\b\b\b\b\b\b\b\b\b\b\b\b\b\b\b\b\b\b\b\n",
            "\n",
            "Epoch 00021: val_accuracy improved from 0.91345 to 0.91397, saving model to w.hdf5\n",
            "Epoch 22/50\n",
            "452889/452889 [==============================] - 8s 17us/step - loss: 0.2363 - accuracy: 0.9147 - val_loss: 0.2367 - val_accuracy: 0.9145\b\b\b\b\b\b\b\b\b\b\b\b\b\b\b\b\b\b\b\b\b\b\b\b\b\b\b\b\b\b\b\b\b\b\b\b\b\b\b\b\b\b\b\b\b\n",
            "\n",
            "Epoch 00022: val_accuracy improved from 0.91397 to 0.91453, saving model to w.hdf5\n",
            "Epoch 23/50\n",
            "452889/452889 [==============================] - 7s 17us/step - loss: 0.2344 - accuracy: 0.9153 - val_loss: 0.2350 - val_accuracy: 0.9153\b\b\b\b\b\b\b\b\b\b\b\b\b\b\b\b\b\b\b\b\b\b\b\b\b\b\b\b\b\b\b\b\b\b\b\b\b\b\b\b\b\b\b\b\b\n",
            "\n",
            "Epoch 00023: val_accuracy improved from 0.91453 to 0.91525, saving model to w.hdf5\n",
            "Epoch 24/50\n",
            "452889/452889 [==============================] - 7s 17us/step - loss: 0.2325 - accuracy: 0.9161 - val_loss: 0.2331 - val_accuracy: 0.9158\b\b\b\b\b\b\b\b\b\b\b\b\b\b\b\b\b\b\b\b\b\b\b\b\b\b\b\b\b\b\b\b\b\b\b\b\b\b\b\b\b\b\b\b\b\n",
            "\n",
            "Epoch 00024: val_accuracy improved from 0.91525 to 0.91582, saving model to w.hdf5\n",
            "Epoch 25/50\n",
            "452889/452889 [==============================] - 7s 17us/step - loss: 0.2307 - accuracy: 0.9167 - val_loss: 0.2325 - val_accuracy: 0.9160\b\b\b\b\b\b\b\b\b\b\b\b\b\b\b\b\b\b\b\b\b\b\b\b\b\b\b\b\b\b\b\b\b\b\b\b\b\b\b\b\b\b\b\b\b\n",
            "\n",
            "Epoch 00025: val_accuracy improved from 0.91582 to 0.91602, saving model to w.hdf5\n",
            "Epoch 26/50\n",
            "452889/452889 [==============================] - 8s 17us/step - loss: 0.2288 - accuracy: 0.9174 - val_loss: 0.2310 - val_accuracy: 0.9167\b\b\b\b\b\b\b\b\b\b\b\b\b\b\b\b\b\b\b\b\b\b\b\b\b\b\b\b\b\b\b\b\b\b\b\b\b\b\b\b\b\b\b\b\b\n",
            "\n",
            "Epoch 00026: val_accuracy improved from 0.91602 to 0.91667, saving model to w.hdf5\n",
            "Epoch 27/50\n",
            "452889/452889 [==============================] - 8s 17us/step - loss: 0.2271 - accuracy: 0.9181 - val_loss: 0.2287 - val_accuracy: 0.9174\b\b\b\b\b\b\b\b\b\b\b\b\b\b\b\b\b\b\b\b\b\b\b\b\b\b\b\b\b\b\b\b\b\b\b\b\b\b\b\b\b\b\b\b\b\n",
            "\n",
            "Epoch 00027: val_accuracy improved from 0.91667 to 0.91737, saving model to w.hdf5\n",
            "Epoch 28/50\n",
            "452889/452889 [==============================] - 7s 17us/step - loss: 0.2255 - accuracy: 0.9186 - val_loss: 0.2272 - val_accuracy: 0.9179\b\b\b\b\b\b\b\b\b\b\b\b\b\b\b\b\b\b\b\b\b\b\b\b\b\b\b\b\b\b\b\b\b\b\b\b\b\b\b\b\b\b\b\b\b\n",
            "\n",
            "Epoch 00028: val_accuracy improved from 0.91737 to 0.91792, saving model to w.hdf5\n",
            "Epoch 29/50\n",
            "452889/452889 [==============================] - 8s 17us/step - loss: 0.2240 - accuracy: 0.9193 - val_loss: 0.2270 - val_accuracy: 0.9180\b\b\b\b\b\b\b\b\b\b\b\b\b\b\b\b\b\b\b\b\b\b\b\b\b\b\b\b\b\b\b\b\b\b\b\b\b\b\b\b\b\b\b\b\b\n",
            "\n",
            "Epoch 00029: val_accuracy improved from 0.91792 to 0.91796, saving model to w.hdf5\n",
            "Epoch 30/50\n",
            "452889/452889 [==============================] - 7s 16us/step - loss: 0.2225 - accuracy: 0.9197 - val_loss: 0.2247 - val_accuracy: 0.9189\b\b\b\b\b\b\b\b\b\b\b\b\b\b\b\b\b\b\b\b\b\b\b\b\b\b\b\b\b\b\b\b\b\b\b\b\b\b\b\b\b\b\b\b\b\n",
            "\n",
            "Epoch 00030: val_accuracy improved from 0.91796 to 0.91887, saving model to w.hdf5\n",
            "Epoch 31/50\n",
            "452889/452889 [==============================] - 7s 16us/step - loss: 0.2211 - accuracy: 0.9202 - val_loss: 0.2241 - val_accuracy: 0.9191\b\b\b\b\b\b\b\b\b\b\b\b\b\b\b\b\b\b\b\b\b\b\b\b\b\b\b\b\b\b\b\b\b\b\b\b\b\b\b\b\b\b\b\b\b\n",
            "\n",
            "Epoch 00031: val_accuracy improved from 0.91887 to 0.91911, saving model to w.hdf5\n",
            "Epoch 32/50\n",
            "452889/452889 [==============================] - 7s 17us/step - loss: 0.2198 - accuracy: 0.9206 - val_loss: 0.2237 - val_accuracy: 0.9191\b\b\b\b\b\b\b\b\b\b\b\b\b\b\b\b\b\b\b\b\b\b\b\b\b\b\b\b\b\b\b\b\b\b\b\b\b\b\b\b\b\b\b\b\b\n",
            "\n",
            "Epoch 00032: val_accuracy did not improve from 0.91911\n",
            "Epoch 33/50\n",
            "452889/452889 [==============================] - 8s 17us/step - loss: 0.2185 - accuracy: 0.9213 - val_loss: 0.2231 - val_accuracy: 0.9196\b\b\b\b\b\b\b\b\b\b\b\b\b\b\b\b\b\b\b\b\b\b\b\b\b\b\b\b\b\b\b\b\b\b\b\b\b\b\b\b\b\b\b\b\b\n",
            "\n",
            "Epoch 00033: val_accuracy improved from 0.91911 to 0.91955, saving model to w.hdf5\n",
            "Epoch 34/50\n",
            "452889/452889 [==============================] - 8s 17us/step - loss: 0.2174 - accuracy: 0.9216 - val_loss: 0.2215 - val_accuracy: 0.9200\b\b\b\b\b\b\b\b\b\b\b\b\b\b\b\b\b\b\b\b\b\b\b\b\b\b\b\b\b\b\b\b\b\b\b\b\b\b\b\b\b\b\b\b\b\n",
            "\n",
            "Epoch 00034: val_accuracy improved from 0.91955 to 0.92004, saving model to w.hdf5\n",
            "Epoch 35/50\n",
            "452889/452889 [==============================] - 8s 17us/step - loss: 0.2161 - accuracy: 0.9221 - val_loss: 0.2207 - val_accuracy: 0.9202\b\b\b\b\b\b\b\b\b\b\b\b\b\b\b\b\b\b\b\b\b\b\b\b\b\b\b\b\b\b\b\b\b\b\b\b\b\b\b\b\b\b\b\b\b\n",
            "\n",
            "Epoch 00035: val_accuracy improved from 0.92004 to 0.92018, saving model to w.hdf5\n",
            "Epoch 36/50\n",
            "452889/452889 [==============================] - 8s 17us/step - loss: 0.2150 - accuracy: 0.9225 - val_loss: 0.2199 - val_accuracy: 0.9205\b\b\b\b\b\b\b\b\b\b\b\b\b\b\b\b\b\b\b\b\b\b\b\b\b\b\b\b\b\b\b\b\b\b\b\b\b\b\b\b\b\b\b\b\b\n",
            "\n",
            "Epoch 00036: val_accuracy improved from 0.92018 to 0.92046, saving model to w.hdf5\n",
            "Epoch 37/50\n",
            "452889/452889 [==============================] - 8s 17us/step - loss: 0.2140 - accuracy: 0.9229 - val_loss: 0.2192 - val_accuracy: 0.9208\b\b\b\b\b\b\b\b\b\b\b\b\b\b\b\b\b\b\b\b\b\b\b\b\b\b\b\b\b\b\b\b\b\b\b\b\b\b\b\b\b\b\b\b\b\n",
            "\n",
            "Epoch 00037: val_accuracy improved from 0.92046 to 0.92082, saving model to w.hdf5\n",
            "Epoch 38/50\n",
            "452889/452889 [==============================] - 8s 17us/step - loss: 0.2128 - accuracy: 0.9233 - val_loss: 0.2182 - val_accuracy: 0.9211\b\b\b\b\b\b\b\b\b\b\b\b\b\b\b\b\b\b\b\b\b\b\b\b\b\b\b\b\b\b\b\b\b\b\b\b\b\b\b\b\b\b\b\b\b\n",
            "\n",
            "Epoch 00038: val_accuracy improved from 0.92082 to 0.92107, saving model to w.hdf5\n",
            "Epoch 39/50\n",
            "452889/452889 [==============================] - 8s 17us/step - loss: 0.2118 - accuracy: 0.9237 - val_loss: 0.2172 - val_accuracy: 0.9215\b\b\b\b\b\b\b\b\b\b\b\b\b\b\b\b\b\b\b\b\b\b\b\b\b\b\b\b\b\b\b\b\b\b\b\b\b\b\b\b\b\b\b\b\b\n",
            "\n",
            "Epoch 00039: val_accuracy improved from 0.92107 to 0.92154, saving model to w.hdf5\n",
            "Epoch 40/50\n",
            "452889/452889 [==============================] - 8s 17us/step - loss: 0.2110 - accuracy: 0.9240 - val_loss: 0.2182 - val_accuracy: 0.9214\b\b\b\b\b\b\b\b\b\b\b\b\b\b\b\b\b\b\b\b\b\b\b\b\b\b\b\b\b\b\b\b\b\b\b\b\b\b\b\b\b\b\b\b\b\n",
            "\n",
            "Epoch 00040: val_accuracy did not improve from 0.92154\n",
            "Epoch 41/50\n",
            "452889/452889 [==============================] - 8s 17us/step - loss: 0.2099 - accuracy: 0.9244 - val_loss: 0.2174 - val_accuracy: 0.9217\b\b\b\b\b\b\b\b\b\b\b\b\b\b\b\b\b\b\b\b\b\b\b\b\b\b\b\b\b\b\b\b\b\b\b\b\b\b\b\b\b\b\b\b\b\n",
            "\n",
            "Epoch 00041: val_accuracy improved from 0.92154 to 0.92171, saving model to w.hdf5\n",
            "Epoch 00041: early stopping\n"
          ]
        }
      ],
      "execution_count": 28,
      "metadata": {
        "collapsed": true,
        "jupyter": {
          "source_hidden": false,
          "outputs_hidden": false
        },
        "nteract": {
          "transient": {
            "deleting": false
          }
        },
        "gather": {
          "logged": 1612977979924
        }
      }
    },
    {
      "cell_type": "markdown",
      "source": [
        "Summary of Model 'modelupd'"
      ],
      "metadata": {
        "nteract": {
          "transient": {
            "deleting": false
          }
        }
      }
    },
    {
      "cell_type": "code",
      "source": [
        "modelupd.summary()"
      ],
      "outputs": [
        {
          "output_type": "stream",
          "name": "stdout",
          "text": [
            "Model: \"sequential_6\"\n",
            "_________________________________________________________________\n",
            "Layer (type)                 Output Shape              Param #   \n",
            "=================================================================\n",
            "flatten_6 (Flatten)          (None, 793)               0         \n",
            "_________________________________________________________________\n",
            "dense_32 (Dense)             (None, 200)               158800    \n",
            "_________________________________________________________________\n",
            "dense_33 (Dense)             (None, 150)               30150     \n",
            "_________________________________________________________________\n",
            "dense_34 (Dense)             (None, 100)               15100     \n",
            "_________________________________________________________________\n",
            "dense_35 (Dense)             (None, 50)                5050      \n",
            "_________________________________________________________________\n",
            "dense_36 (Dense)             (None, 25)                1275      \n",
            "_________________________________________________________________\n",
            "dense_37 (Dense)             (None, 10)                260       \n",
            "=================================================================\n",
            "Total params: 210,635\n",
            "Trainable params: 210,635\n",
            "Non-trainable params: 0\n",
            "_________________________________________________________________\n"
          ]
        }
      ],
      "execution_count": 29,
      "metadata": {
        "collapsed": true,
        "jupyter": {
          "source_hidden": false,
          "outputs_hidden": false
        },
        "nteract": {
          "transient": {
            "deleting": false
          }
        },
        "gather": {
          "logged": 1612978367407
        }
      }
    },
    {
      "cell_type": "code",
      "source": [
        "import matplotlib.pyplot as plt\r\n",
        "plt.style.use('ggplot')\r\n",
        "def plot_history(history):\r\n",
        "    acc = history.history['accuracy']\r\n",
        "    val_acc = history.history['val_accuracy']\r\n",
        "    loss = history.history['loss']\r\n",
        "    val_loss = history.history['val_loss']\r\n",
        "    x = range(1, len(acc) + 1)\r\n",
        "    plt.figure(figsize=(12, 5))\r\n",
        "    plt.subplot(1, 2, 1)\r\n",
        "    plt.plot(x, acc, 'b', label='Training acc')\r\n",
        "    plt.plot(x, val_acc, 'r', label='Validation acc')\r\n",
        "    plt.title('Training and validation accuracy')\r\n",
        "    plt.legend()\r\n",
        "    plt.subplot(1, 2, 2)\r\n",
        "    plt.plot(x, loss, 'b', label='Training loss')\r\n",
        "    plt.plot(x, val_loss, 'r', label='Validation loss')\r\n",
        "    plt.title('Training and validation loss')\r\n",
        "    plt.legend()\r\n",
        "\r\n",
        "plot_history(history)"
      ],
      "outputs": [
        {
          "output_type": "display_data",
          "data": {
            "text/plain": "<Figure size 864x360 with 2 Axes>",
            "image/png": "[encoded data removed]"
          },
          "metadata": {}
        }
      ],
      "execution_count": 30,
      "metadata": {
        "collapsed": true,
        "jupyter": {
          "source_hidden": false,
          "outputs_hidden": false
        },
        "nteract": {
          "transient": {
            "deleting": false
          }
        },
        "gather": {
          "logged": 1612978380127
        }
      }
    },
    {
      "cell_type": "markdown",
      "source": [
        "Saving the Model and Input Data(Non-Targeting Data)"
      ],
      "metadata": {
        "nteract": {
          "transient": {
            "deleting": false
          }
        }
      }
    },
    {
      "cell_type": "code",
      "source": [
        "# Save your model\r\n",
        "from sklearn.externals import joblib\r\n",
        "joblib.dump(modelupd, 'model.pkl')\r\n",
        "print(\"Model dumped!\")\r\n",
        "\r\n",
        "# Saving the data from input\r\n",
        "model_input = list(x)\r\n",
        "joblib.dump(model_input, 'model_input.pkl')\r\n",
        "print(\"Models columns dumped!\")"
      ],
      "outputs": [
        {
          "output_type": "stream",
          "name": "stdout",
          "text": [
            "Model dumped!\n",
            "Models columns dumped!\n"
          ]
        }
      ],
      "execution_count": 31,
      "metadata": {
        "collapsed": true,
        "jupyter": {
          "source_hidden": false,
          "outputs_hidden": false
        },
        "nteract": {
          "transient": {
            "deleting": false
          }
        },
        "gather": {
          "logged": 1612978463374
        }
      }
    },
    {
      "cell_type": "markdown",
      "source": [
        "Loading the Model"
      ],
      "metadata": {
        "nteract": {
          "transient": {
            "deleting": false
          }
        }
      }
    },
    {
      "cell_type": "code",
      "source": [
        "lr = joblib.load('model.pkl')"
      ],
      "outputs": [],
      "execution_count": 32,
      "metadata": {
        "collapsed": true,
        "jupyter": {
          "source_hidden": false,
          "outputs_hidden": false
        },
        "nteract": {
          "transient": {
            "deleting": false
          }
        },
        "gather": {
          "logged": 1612978565211
        }
      }
    },
    {
      "cell_type": "markdown",
      "source": [
        "Defining text2list function"
      ],
      "metadata": {
        "nteract": {
          "transient": {
            "deleting": false
          }
        }
      }
    },
    {
      "cell_type": "code",
      "source": [
        "def text2list(text):\r\n",
        "  import string\r\n",
        "  import re\r\n",
        "  test_str=text\r\n",
        "  test_str = ''.join([i for i in test_str if not i.isdigit()]) \r\n",
        "  test_str=test_str.lower()\r\n",
        "  punc = '''!()-[]{};:'\"\\,<>./¿?@#$%^&*_~+-=|`'''\r\n",
        "\r\n",
        "  for ele in test_str:\r\n",
        "    if ele in punc:\r\n",
        "      test_str = test_str.replace(ele, \"\")  \r\n",
        "\r\n",
        "  test_str_split=re.split('\\s+', test_str)\r\n",
        "  \r\n",
        "  if (test_str_split[0]==''):\r\n",
        "    test_str_split.remove('')\r\n",
        "  if (test_str_split[len(test_str_split)-1]==''):\r\n",
        "    test_str_split.remove('')\r\n",
        "\r\n",
        "  return test_str_split"
      ],
      "outputs": [],
      "execution_count": 33,
      "metadata": {
        "collapsed": true,
        "jupyter": {
          "source_hidden": false,
          "outputs_hidden": false
        },
        "nteract": {
          "transient": {
            "deleting": false
          }
        },
        "gather": {
          "logged": 1612978570322
        }
      }
    },
    {
      "cell_type": "markdown",
      "source": [
        "Loading the Model and defining lang_detect in percentage Distribution"
      ],
      "metadata": {
        "nteract": {
          "transient": {
            "deleting": false
          }
        }
      }
    },
    {
      "cell_type": "code",
      "source": [
        "def lang_detect(text):\r\n",
        "    list_of_word=text2list(text)\r\n",
        "    k=[]\r\n",
        "    for word in list_of_word:\r\n",
        "        k.append(one_hot_encode(process(word)))\r\n",
        "        ans=lr.predict(np.array(k))\r\n",
        "    print('Predication of language belonging of each unique word from a sentence\\n')\r\n",
        "    eng=0\r\n",
        "    dan=0\r\n",
        "    dut=0\r\n",
        "    fre=0\r\n",
        "    ger=0\r\n",
        "    ita=0\r\n",
        "    pol=0\r\n",
        "    por=0\r\n",
        "    spa=0\r\n",
        "    swe=0\r\n",
        "    for q in range(len(list_of_word)):\r\n",
        "        eng=0\r\n",
        "        dan=0\r\n",
        "        dut=0\r\n",
        "        fre=0\r\n",
        "        ger=0\r\n",
        "        ita=0\r\n",
        "        pol=0\r\n",
        "        por=0\r\n",
        "        spa=0\r\n",
        "        swe=0\r\n",
        "        eng+=ans[q][0]\r\n",
        "        dan+=ans[q][1]\r\n",
        "        dut+=ans[q][2]\r\n",
        "        fre+=ans[q][3]\r\n",
        "        ger+=ans[q][4]\r\n",
        "        ita+=ans[q][5]\r\n",
        "        pol+=ans[q][6]\r\n",
        "        por+=ans[q][7]\r\n",
        "        spa+=ans[q][8]\r\n",
        "        swe+=ans[q][9]\r\n",
        "        each_word=list_of_word[q]\r\n",
        "        print(each_word)\r\n",
        "        report = \"Percentage Distribution\\nEnglish:-{}\\nDanish:-{}\\nDutch:-{}\\nFrench:-{}\\nGerman:-{}\\nItalian:-{}\\nPolish:-{}\\nPortuguese:-{}\\nSpanish:-{}\\nSwedish:-{}\\n\".format(eng,dan,dut,fre,ger,ita,pol,por,spa,swe)\r\n",
        "        print(report)"
      ],
      "outputs": [],
      "execution_count": 34,
      "metadata": {
        "collapsed": true,
        "jupyter": {
          "source_hidden": false,
          "outputs_hidden": false
        },
        "nteract": {
          "transient": {
            "deleting": false
          }
        },
        "gather": {
          "logged": 1612978574590
        }
      }
    },
    {
      "cell_type": "markdown",
      "source": [
        "Running the lang_detect function as trail"
      ],
      "metadata": {
        "nteract": {
          "transient": {
            "deleting": false
          }
        }
      }
    },
    {
      "cell_type": "code",
      "source": [
        "lang_detect('freshdirect')\r\n",
        "lang_detect('hello @amigo , m+y name is 007. wie gehts? ¿necesitas ayuda?')"
      ],
      "outputs": [
        {
          "output_type": "stream",
          "name": "stdout",
          "text": [
            "Predication of language belonging of each unique word from a sentence\n",
            "\n",
            "freshdirect\n",
            "Percentage Distribution\n",
            "English:-0.8265312910079956\n",
            "Danish:-0.017848648130893707\n",
            "Dutch:-0.025576049461960793\n",
            "French:-0.04944796860218048\n",
            "German:-0.024650393053889275\n",
            "Italian:-0.013231324963271618\n",
            "Polish:-0.0036325673572719097\n",
            "Portuguese:-0.011984152719378471\n",
            "Spanish:-0.010676642879843712\n",
            "Swedish:-0.016421038657426834\n",
            "\n",
            "Predication of language belonging of each unique word from a sentence\n",
            "\n",
            "hello\n",
            "Percentage Distribution\n",
            "English:-0.15225960314273834\n",
            "Danish:-0.10007758438587189\n",
            "Dutch:-0.11705747991800308\n",
            "French:-0.1074475571513176\n",
            "German:-0.07463974505662918\n",
            "Italian:-0.06235963851213455\n",
            "Polish:-0.04582236707210541\n",
            "Portuguese:-0.09762395173311234\n",
            "Spanish:-0.11276756972074509\n",
            "Swedish:-0.12994441390037537\n",
            "\n",
            "amigo\n",
            "Percentage Distribution\n",
            "English:-0.09553837031126022\n",
            "Danish:-0.039580296725034714\n",
            "Dutch:-0.05491271987557411\n",
            "French:-0.09122008830308914\n",
            "German:-0.03591189533472061\n",
            "Italian:-0.14122693240642548\n",
            "Polish:-0.038287028670310974\n",
            "Portuguese:-0.2427006959915161\n",
            "Spanish:-0.21599560976028442\n",
            "Swedish:-0.0446263812482357\n",
            "\n",
            "my\n",
            "Percentage Distribution\n",
            "English:-0.13139688968658447\n",
            "Danish:-0.0777192935347557\n",
            "Dutch:-0.08456363528966904\n",
            "French:-0.08889846503734589\n",
            "German:-0.056786518543958664\n",
            "Italian:-0.05478231608867645\n",
            "Polish:-0.2550395727157593\n",
            "Portuguese:-0.05107935145497322\n",
            "Spanish:-0.08817864954471588\n",
            "Swedish:-0.1115553081035614\n",
            "\n",
            "name\n",
            "Percentage Distribution\n",
            "English:-0.10862100124359131\n",
            "Danish:-0.08503853529691696\n",
            "Dutch:-0.13469402492046356\n",
            "French:-0.13271380960941315\n",
            "German:-0.08159980922937393\n",
            "Italian:-0.07445382326841354\n",
            "Polish:-0.16137292981147766\n",
            "Portuguese:-0.08287522196769714\n",
            "Spanish:-0.07422930002212524\n",
            "Swedish:-0.0644015222787857\n",
            "\n",
            "is\n",
            "Percentage Distribution\n",
            "English:-0.11406945437192917\n",
            "Danish:-0.07272310554981232\n",
            "Dutch:-0.08533758670091629\n",
            "French:-0.0940675139427185\n",
            "German:-0.07544732093811035\n",
            "Italian:-0.11080383509397507\n",
            "Polish:-0.11012857407331467\n",
            "Portuguese:-0.09673696011304855\n",
            "Spanish:-0.11859125643968582\n",
            "Swedish:-0.12209441512823105\n",
            "\n",
            "wie\n",
            "Percentage Distribution\n",
            "English:-0.09448237717151642\n",
            "Danish:-0.03381245583295822\n",
            "Dutch:-0.1522284895181656\n",
            "French:-0.050764258950948715\n",
            "German:-0.06253349781036377\n",
            "Italian:-0.018439767882227898\n",
            "Polish:-0.5156623721122742\n",
            "Portuguese:-0.018657974898815155\n",
            "Spanish:-0.026576140895485878\n",
            "Swedish:-0.0268426351249218\n",
            "\n",
            "gehts\n",
            "Percentage Distribution\n",
            "English:-0.0524427592754364\n",
            "Danish:-0.024852022528648376\n",
            "Dutch:-0.08342316001653671\n",
            "French:-0.02689124457538128\n",
            "German:-0.7135719060897827\n",
            "Italian:-0.011953960172832012\n",
            "Polish:-0.006530330050736666\n",
            "Portuguese:-0.01792024075984955\n",
            "Spanish:-0.010077329352498055\n",
            "Swedish:-0.052336979657411575\n",
            "\n",
            "necesitas\n",
            "Percentage Distribution\n",
            "English:-0.01929938606917858\n",
            "Danish:-0.0019655840005725622\n",
            "Dutch:-0.01015606801956892\n",
            "French:-0.007613663095980883\n",
            "German:-0.0021736850030720234\n",
            "Italian:-0.005933302920311689\n",
            "Polish:-0.0023637854028493166\n",
            "Portuguese:-0.2765742838382721\n",
            "Spanish:-0.6696628928184509\n",
            "Swedish:-0.00425731809809804\n",
            "\n",
            "ayuda\n",
            "Percentage Distribution\n",
            "English:-0.1088644489645958\n",
            "Danish:-0.0295100174844265\n",
            "Dutch:-0.0653325691819191\n",
            "French:-0.059006232768297195\n",
            "German:-0.02254445105791092\n",
            "Italian:-0.027532394975423813\n",
            "Polish:-0.12834401428699493\n",
            "Portuguese:-0.15365757048130035\n",
            "Spanish:-0.35735994577407837\n",
            "Swedish:-0.04784834012389183\n",
            "\n"
          ]
        }
      ],
      "execution_count": 35,
      "metadata": {
        "collapsed": true,
        "jupyter": {
          "source_hidden": false,
          "outputs_hidden": false
        },
        "nteract": {
          "transient": {
            "deleting": false
          }
        },
        "gather": {
          "logged": 1612978582146
        }
      }
    }
  ],
  "metadata": {
    "kernelspec": {
      "name": "python3-azureml",
      "language": "python",
      "display_name": "Python 3.6 - AzureML"
    },
    "language_info": {
      "name": "python",
      "version": "3.6.9",
      "mimetype": "text/x-python",
      "codemirror_mode": {
        "name": "ipython",
        "version": 3
      },
      "pygments_lexer": "ipython3",
      "nbconvert_exporter": "python",
      "file_extension": ".py"
    },
    "kernel_info": {
      "name": "python3-azureml"
    },
    "nteract": {
      "version": "nteract-front-end@1.0.0"
    }
  },
  "nbformat": 4,
  "nbformat_minor": 2
}