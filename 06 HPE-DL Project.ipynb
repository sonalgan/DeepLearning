{
 "cells": [
  {
   "cell_type": "code",
   "execution_count": 4,
   "metadata": {},
   "outputs": [],
   "source": [
    "import pandas as pd\n",
    "import math\n",
    "import numpy as np\n",
    "import os\n",
    "global values\n",
    "global val_to_int\n",
    "global languages\n",
    "values='ABCDEFabcdef0123456789*'\n",
    "val_to_int = dict((c, i) for i, c in enumerate(values))\n",
    "languages=[\"hi\",\"bn\",\"gu\",\"kn\",\"mr\",\"or\",\"ta\",\"te\",\"ml\",\"pa\"]\n",
    "languages.sort()\n",
    "from re import sub\n"
   ]
  },
  {
   "cell_type": "code",
   "execution_count": 5,
   "metadata": {
    "jupyter": {
     "outputs_hidden": false,
     "source_hidden": false
    },
    "nteract": {
     "transient": {
      "deleting": false
     }
    }
   },
   "outputs": [],
   "source": [
    "def one_hot_encoded(data):\n",
    "  integer_encoded=[]\n",
    "  for i in range(len(data)):\n",
    "    integer_encoded.append([val_to_int[char] for char in data[i]])\n",
    "  one_hot_encoded = []   \n",
    "  for i in integer_encoded:\n",
    "    letter = np.zeros(len(values))\n",
    "    for j in i:\n",
    "      letter[j]=1\n",
    "    one_hot_encoded.append(letter)\n",
    "    while(len(one_hot_encoded)<maxlen):\n",
    "        letter = np.zeros(len(values))\n",
    "        onehot_encoded.append(letter)\n",
    "  return np.array(one_hot_encoded)\n",
    "\n",
    "def generate_iscii_map():\n",
    "  df=pd.read_csv('./iscii1.csv')\n",
    "  lang_map=[]\n",
    "  ls=dict()\n",
    "  for lang in languages:\n",
    "    ls=dict()\n",
    "    for i,j in zip(df.iscii,df[lang]):\n",
    "      if(j!=j):\n",
    "        continue\n",
    "      ls[j]=i\n",
    "    lang_map.append(ls)\n",
    "  return np.array(lang_map)\n",
    "\n",
    "\n",
    "def process(data):\n",
    "  iscii_encoded=[]\n",
    "  data= re.sub(r\"\\d+\",\"\",data)\n",
    "  #print(data)\n",
    "  for ch in data:\n",
    "    #print(ch)\n",
    "    for x in lang_map:\n",
    "      y=list(x.keys())\n",
    "      #print(y)\n",
    "      if(ch in y):\n",
    "          iscii_encoded.append(x[ch].capitalize())\n",
    "          break\n",
    "  return iscii_encoded"
   ]
  },
  {
   "cell_type": "code",
   "execution_count": 6,
   "metadata": {
    "collapsed": true,
    "jupyter": {
     "outputs_hidden": false,
     "source_hidden": false
    },
    "nteract": {
     "transient": {
      "deleting": false
     }
    }
   },
   "outputs": [
    {
     "data": {
      "text/plain": [
       "array([{'ঁ': 'A1', 'ং': 'A2', 'ঃ': 'A3', 'অ': 'A4', 'আ': 'A5', 'ই': 'A6', 'ঌ': 'A6*', 'ঈ': 'A7', 'ৡ': 'A7*', 'উ': 'A8', 'ঊ': 'A9', 'ঋ': 'AA', 'ৠ': 'AA*', 'এ': 'AC', 'ঐ': 'AD', 'ও': 'B0', 'ঔ': 'B1', 'ক': 'B3', 'খ': 'B4', 'গ': 'B5', 'ঘ': 'B6', 'ঙ': 'B7', 'চ': 'B8', 'ছ': 'B9', 'জ': 'BA', 'ঝ': 'BB', 'ঞ': 'BC', 'ট': 'BD', 'ঠ': 'BE', 'ড': 'BF', 'ড়': 'BF*', 'ঢ': 'C0', 'ঢ়': 'C0*', 'ণ': 'C1', 'ত': 'C2', 'থ': 'C3', 'দ': 'C4', 'ধ': 'C5', 'ন': 'C6', 'প': 'C8', 'ফ': 'C9', 'ব': 'D4', 'ভ': 'CB', 'ম': 'CC', 'য': 'CD', 'য়': 'CE', 'র': 'CF', 'ল': 'D1', 'শ': 'D5', 'ষ': 'D6', 'স': 'D7', 'হ': 'D8', 'া': 'DA', 'ি': 'DB', 'ৢ': 'DB*', 'ী': 'DC', 'ৣ': 'DC*', 'ু': 'DD', 'ূ': 'DE', 'ৃ': 'DF', 'ৄ': 'DF*', 'ে': 'E1', 'ৈ': 'E2', 'ো': 'E5', 'ৌ': 'E6', '্': 'E8', '়': 'E9', 'ঽ': 'EA*', '০': 'F1', '১': 'F2', '২': 'F3', '৩': 'F4', '৪': 'F5', '৫': 'F6', '৬': 'F7', '৭': 'F8', '৮': 'F9', '৯': 'FA'},\n",
       "       {'ૐ': 'A0', 'ઁ': 'A1', 'ં': 'A2', 'ઃ': 'A3', 'અ': 'A4', 'આ': 'A5', 'ઇ': 'A6', 'ઌ': 'A6*', 'ઈ': 'A7', 'ૡ': 'A7*', 'ઉ': 'A8', 'ઊ': 'A9', 'ઋ': 'AA', 'ૠ': 'AA*', 'એ': 'AC', 'ઐ': 'AD', 'ઍ': 'AE', 'ઓ': 'B0', 'ઔ': 'B1', 'ઑ': 'B2', 'ક': 'B3', 'ખ': 'B4', 'ગ': 'B5', 'ઘ': 'B6', 'ઙ': 'B7', 'ચ': 'B8', 'છ': 'B9', 'જ': 'BA', 'ઝ': 'BB', 'ઞ': 'BC', 'ટ': 'BD', 'ઠ': 'BE', 'ડ': 'BF', 'ઢ': 'C0', 'ણ': 'C1', 'ત': 'C2', 'થ': 'C3', 'દ': 'C4', 'ધ': 'C5', 'ન': 'C6', 'પ': 'C8', 'ફ': 'C9', 'બ': 'CA', 'ભ': 'CB', 'મ': 'CC', 'ય': 'CD', 'ર': 'CF', 'લ': 'D1', 'ળ': 'D2', 'વ': 'D4', 'શ': 'D5', 'ષ': 'D6', 'સ': 'D7', 'હ': 'D8', 'ા': 'DA', 'િ': 'DB', 'ૢ': 'DB*', 'ી': 'DC', 'ૣ': 'DC*', 'ુ': 'DD', 'ૂ': 'DE', 'ૃ': 'DF', 'ૄ': 'DF*', 'ે': 'E1', 'ૈ': 'E2', 'ૅ': 'E3', 'ો': 'E5', 'ૌ': 'E6', 'ૉ': 'E7', '્': 'E8', '઼': 'E9', 'ઽ': 'EA*', '૦': 'F1', '૧': 'F2', '૨': 'F3', '૩': 'F4', '૪': 'F5', '૫': 'F6', '૬': 'F7', '૭': 'F8', '૮': 'F9', '૯': 'FA'},\n",
       "       {'ॐ': 'A0', 'ँ': 'A1', 'ं': 'A2', 'ः': 'A3', 'अ': 'A4', 'आ': 'A5', 'इ': 'A6', 'ऌ': 'A6*', 'ई': 'A7', 'ॡ': 'A7*', 'उ': 'A8', 'ऊ': 'A9', 'ऋ': 'AA', 'ॠ': 'AA*', 'ऎ': 'AB', 'ए': 'AC', 'ऐ': 'AD', 'ऍ': 'AE', 'ऒ': 'AF', 'ओ': 'B0', 'औ': 'B1', 'ऑ': 'B2', 'क': 'B3', 'क़': 'B3*', 'ख': 'B4', 'ख़': 'B4*', 'ग': 'B5', 'ग़': 'B5*', 'घ': 'B6', 'ङ': 'B7', 'च': 'B8', 'छ': 'B9', 'ज': 'BA', 'ज़': 'BA*', 'झ': 'BB', 'ञ': 'BC', 'ट': 'BD', 'ठ': 'BE', 'ड': 'BF', 'ड़': 'BF*', 'ढ': 'C0', 'ढ़': 'C0*', 'ण': 'C1', 'त': 'C2', 'थ': 'C3', 'द': 'C4', 'ध': 'C5', 'न': 'C6', 'ऩ': 'C7', 'प': 'C8', 'फ': 'C9', 'फ़': 'C9*', 'ब': 'CA', 'भ': 'CB', 'म': 'CC', 'य': 'CD', 'य़': 'CE', 'र': 'CF', 'ऱ': 'D0', 'ल': 'D1', 'ळ': 'D2', 'ऴ': 'D3', 'व': 'D4', 'श': 'D5', 'ष': 'D6', 'स': 'D7', 'ह': 'D8', 'ा': 'DA', 'ि': 'DB', 'ॢ': 'DB*', 'ी': 'DC', 'ॣ': 'DC*', 'ु': 'DD', 'ू': 'DE', 'ृ': 'DF', 'ॄ': 'DF*', 'ॆ': 'E0', 'े': 'E1', 'ै': 'E2', 'ॅ': 'E3', 'ॊ': 'E4', 'ो': 'E5', 'ौ': 'E6', 'ॉ': 'E7', '्': 'E8', '़': 'E9', '।': 'EA', 'ऽ': 'EA*', '०': 'F1', '१': 'F2', '२': 'F3', '३': 'F4', '४': 'F5', '५': 'F6', '६': 'F7', '७': 'F8', '८': 'F9', '९': 'FA'},\n",
       "       {'ಂ': 'A2', 'ಃ': 'A3', 'ಅ': 'A4', 'ಆ': 'A5', 'ಇ': 'A6', 'ಌ': 'A6*', 'ಈ': 'A7', 'ೡ': 'A7*', 'ಉ': 'A8', 'ಊ': 'A9', 'ಋ': 'AA', 'ೠ': 'AA*', 'ಎ': 'AB', 'ಏ': 'AC', 'ಐ': 'AD', 'ಒ': 'AF', 'ಓ': 'B0', 'ಔ': 'B1', 'ಕ': 'B3', 'ಖ': 'B4', 'ಗ': 'B5', 'ಘ': 'B6', 'ಙ': 'B7', 'ಚ': 'B8', 'ಛ': 'B9', 'ಜ': 'BA', 'ಝ': 'BB', 'ಞ': 'BC', 'ಟ': 'BD', 'ಠ': 'BE', 'ಡ': 'BF', 'ಢ': 'C0', 'ಣ': 'C1', 'ತ': 'C2', 'ಥ': 'C3', 'ದ': 'C4', 'ಧ': 'C5', 'ನ': 'C6', 'ಪ': 'C8', 'ಫ': 'C9', 'ೞ': 'C9*', 'ಬ': 'CA', 'ಭ': 'CB', 'ಮ': 'CC', 'ಯ': 'CD', 'ರ': 'CF', 'ಱ': 'D0', 'ಲ': 'D1', 'ಳ': 'D2', 'ವ': 'D4', 'ಶ': 'D5', 'ಷ': 'D6', 'ಸ': 'D7', 'ಹ': 'D8', 'ಾ': 'DA', 'ಿ': 'DB', 'ೢ': 'DB*', 'ೀ': 'DC', 'ೣ': 'DC*', 'ು': 'DD', 'ೂ': 'DE', 'ೃ': 'DF', 'ೄ': 'DF*', 'ೆ': 'E0', 'ೇ': 'E1', 'ೈ': 'E2', 'ೊ': 'E4', 'ೋ': 'E5', 'ೌ': 'E6', '್': 'E8', '಼': 'E9', 'ಽ': 'EA*', '೦': 'F1', '೧': 'F2', '೨': 'F3', '೩': 'F4', '೪': 'F5', '೫': 'F6', '೬': 'F7', '೭': 'F8', '೮': 'F9', '೯': 'FA'},\n",
       "       {'ം': 'A2', 'ഃ': 'A3', 'അ': 'A4', 'ആ': 'A5', 'ഇ': 'A6', 'ഌ': 'A6*', 'ഈ': 'A7', 'ൡ': 'A7*', 'ഉ': 'A8', 'ഊ': 'A9', 'ഋ': 'AA', 'ൠ': 'AA*', 'എ': 'AB', 'ഏ': 'AC', 'ഐ': 'AD', 'ഒ': 'AF', 'ഓ': 'B0', 'ഔ': 'B1', 'ക': 'B3', 'ഖ': 'B4', 'ഗ': 'B5', 'ഘ': 'B6', 'ങ': 'B7', 'ച': 'B8', 'ഛ': 'B9', 'ജ': 'BA', 'ഝ': 'BB', 'ഞ': 'BC', 'ട': 'BD', 'ഠ': 'BE', 'ഡ': 'BF', 'ഢ': 'C0', 'ണ': 'C1', 'ത': 'C2', 'ഥ': 'C3', 'ദ': 'C4', 'ധ': 'C5', 'ന': 'C6', 'പ': 'C8', 'ഫ': 'C9', 'ബ': 'CA', 'ഭ': 'CB', 'മ': 'CC', 'യ': 'CD', 'ര': 'CF', 'റ': 'D0', 'ല': 'D1', 'ള': 'D2', 'ഴ': 'D3', 'വ': 'D4', 'ശ': 'D5', 'ഷ': 'D6', 'സ': 'D7', 'ഹ': 'D8', 'ാ': 'DA', 'ി': 'DB', 'ൢ': 'DB*', 'ീ': 'DC', 'ൣ': 'DC*', 'ു': 'DD', 'ൂ': 'DE', 'ൃ': 'DF', 'ൄ': 'DF*', 'െ': 'E0', 'േ': 'E1', 'ൈ': 'E2', 'ൊ': 'E4', 'ോ': 'E5', 'ൌ': 'E6', '്': 'E8', 'ഽ': 'EA*', '൦': 'F1', '൧': 'F2', '൨': 'F3', '൩': 'F4', '൪': 'F5', '൫': 'F6', '൬': 'F7', '൭': 'F8', '൮': 'F9', '൯': 'FA'},\n",
       "       {'ॐ': 'A0', 'ँ': 'A1', 'ं': 'A2', 'ः': 'A3', 'अ': 'A4', 'आ': 'A5', 'इ': 'A6', 'ऌ': 'A6*', 'ई': 'A7', 'ॡ': 'A7*', 'उ': 'A8', 'ऊ': 'A9', 'ऋ': 'AA', 'ॠ': 'AA*', 'ऎ': 'AB', 'ए': 'AC', 'ऐ': 'AD', 'ऍ': 'AE', 'ऒ': 'AF', 'ओ': 'B0', 'औ': 'B1', 'ऑ': 'B2', 'क': 'B3', 'क़': 'B3*', 'ख': 'B4', 'ख़': 'B4*', 'ग': 'B5', 'ग़': 'B5*', 'घ': 'B6', 'ङ': 'B7', 'च': 'B8', 'छ': 'B9', 'ज': 'BA', 'ज़': 'BA*', 'झ': 'BB', 'ञ': 'BC', 'ट': 'BD', 'ठ': 'BE', 'ड': 'BF', 'ड़': 'BF*', 'ढ': 'C0', 'ढ़': 'C0*', 'ण': 'C1', 'त': 'C2', 'थ': 'C3', 'द': 'C4', 'ध': 'C5', 'न': 'C6', 'ऩ': 'C7', 'प': 'C8', 'फ': 'C9', 'फ़': 'C9*', 'ब': 'CA', 'भ': 'CB', 'म': 'CC', 'य': 'CD', 'य़': 'CE', 'र': 'CF', 'ऱ': 'D0', 'ल': 'D1', 'ळ': 'D2', 'ऴ': 'D3', 'व': 'D4', 'श': 'D5', 'ष': 'D6', 'स': 'D7', 'ह': 'D8', 'ा': 'DA', 'ि': 'DB', 'ॢ': 'DB*', 'ी': 'DC', 'ॣ': 'DC*', 'ु': 'DD', 'ू': 'DE', 'ृ': 'DF', 'ॄ': 'DF*', 'ॆ': 'E0', 'े': 'E1', 'ै': 'E2', 'ॅ': 'E3', 'ॊ': 'E4', 'ो': 'E5', 'ौ': 'E6', 'ॉ': 'E7', '्': 'E8', '़': 'E9', '।': 'EA', 'ऽ': 'EA*', '०': 'F1', '१': 'F2', '२': 'F3', '३': 'F4', '४': 'F5', '५': 'F6', '६': 'F7', '७': 'F8', '८': 'F9', '९': 'FA'},\n",
       "       {'ଁ': 'A1', 'ଂ': 'A2', 'ଃ': 'A3', 'ଅ': 'A4', 'ଆ': 'A5', 'ଇ': 'A6', 'ଌ': 'A6*', 'ଈ': 'A7', 'ୡ': 'A7*', 'ଉ': 'A8', 'ଊ': 'A9', 'ଋ': 'AA', 'ୠ': 'AA*', 'ଏ': 'AC', 'ଐ': 'AD', 'ଓ': 'B0', 'ଔ': 'B1', 'କ': 'B3', 'ଖ': 'B4', 'ଗ': 'B5', 'ଘ': 'B6', 'ଙ': 'B7', 'ଚ': 'B8', 'ଛ': 'B9', 'ଜ': 'BA', 'ଝ': 'BB', 'ଞ': 'BC', 'ଟ': 'BD', 'ଠ': 'BE', 'ଡ': 'BF', 'ଡ଼': 'BF*', 'ଢ': 'C0', 'ଢ଼': 'C0*', 'ଣ': 'C1', 'ତ': 'C2', 'ଥ': 'C3', 'ଦ': 'C4', 'ଧ': 'C5', 'ନ': 'C6', 'ପ': 'C8', 'ଫ': 'C9', 'ବ': 'CA', 'ଭ': 'CB', 'ମ': 'CC', 'ଯ': 'CD', 'ୟ': 'CE', 'ର': 'CF', 'ଲ': 'D1', 'ଳ': 'D2', 'ଵ': 'D4', 'ଶ': 'D5', 'ଷ': 'D6', 'ସ': 'D7', 'ହ': 'D8', 'ା': 'DA', 'ି': 'DB', 'ୢ': 'DB*', 'ୀ': 'DC', 'ୣ': 'DC*', 'ୁ': 'DD', 'ୂ': 'DE', 'ୃ': 'DF', 'ୄ': 'DF*', 'େ': 'E1', 'ୈ': 'E2', 'ୋ': 'E5', 'ୌ': 'E6', '୍': 'E8', '଼': 'E9', 'ଽ': 'EA*', '୦': 'F1', '୧': 'F2', '୨': 'F3', '୩': 'F4', '୪': 'F5', '୫': 'F6', '୬': 'F7', '୭': 'F8', '୮': 'F9', '୯': 'FA'},\n",
       "       {'ਁ': 'A1', 'ਂ': 'A2', 'ਃ': 'A3', 'ਅ': 'A4', 'ਆ': 'A5', 'ਇ': 'A6', 'ਈ': 'A7', 'ਉ': 'A8', 'ਊ': 'A9', 'ਏ': 'AC', 'ਐ': 'AD', 'ਓ': 'B0', 'ਔ': 'B1', 'ਕ': 'B3', 'ਖ': 'B4', 'ਖ਼': 'B4*', 'ਗ': 'B5', 'ਗ਼': 'B5*', 'ਘ': 'B6', 'ਙ': 'B7', 'ਚ': 'B8', 'ਛ': 'B9', 'ਜ': 'BA', 'ਜ਼': 'BA*', 'ਝ': 'BB', 'ਞ': 'BC', 'ਟ': 'BD', 'ਠ': 'BE', 'ਡ': 'BF', 'ੜ': 'BF*', 'ਢ': 'C0', 'ਣ': 'C1', 'ਤ': 'C2', 'ਥ': 'C3', 'ਦ': 'C4', 'ਧ': 'C5', 'ਨ': 'C6', 'ਪ': 'C8', 'ਫ': 'C9', 'ਫ਼': 'C9*', 'ਬ': 'CA', 'ਭ': 'CB', 'ਮ': 'CC', 'ਯ': 'CD', 'ਰ': 'CF', 'ਲ': 'D1', 'ਲ਼': 'D2', 'ਵ': 'D4', 'ਸ਼': 'D5', 'ਸ': 'D7', 'ਹ': 'D8', 'ਾ': 'DA', 'ਿ': 'DB', 'ੀ': 'DC', 'ੁ': 'DD', 'ੂ': 'DE', 'ੇ': 'E1', 'ੈ': 'E2', 'ੋ': 'E5', 'ੌ': 'E6', '੍': 'E8', '਼': 'E9', '੦': 'F1', '੧': 'F2', '੨': 'F3', '੩': 'F4', '੪': 'F5', '੫': 'F6', '੬': 'F7', '੭': 'F8', '੮': 'F9', '੯': 'FA'},\n",
       "       {'ஂ': 'A2', 'ஃ': 'A3', 'அ': 'A4', 'ஆ': 'A5', 'இ': 'A6', 'ஈ': 'A7', 'உ': 'A8', 'ஊ': 'A9', 'எ': 'AB', 'ஏ': 'AC', 'ஐ': 'AD', 'ஒ': 'AF', 'ஓ': 'B0', 'ஔ': 'B1', 'க': 'B3', 'ங': 'B7', 'ச': 'B8', 'ஜ': 'BA', 'ஞ': 'BC', 'ட': 'BD', 'ண': 'C1', 'த': 'C2', 'ந': 'C6', 'ன': 'C7', 'ப': 'C8', 'ம': 'CC', 'ய': 'CD', 'ர': 'CF', 'ற': 'D0', 'ல': 'D1', 'ள': 'D2', 'ழ': 'D3', 'வ': 'D4', 'ஶ': 'D5', 'ஷ': 'D6', 'ஸ': 'D7', 'ஹ': 'D8', 'ா': 'DA', 'ி': 'DB', 'ீ': 'DC', 'ு': 'DD', 'ூ': 'DE', 'ெ': 'E0', 'ே': 'E1', 'ை': 'E2', 'ொ': 'E4', 'ோ': 'E5', 'ௌ': 'E6', '்': 'E8', '௦': 'F1', '௧': 'F2', '௨': 'F3', '௩': 'F4', '௪': 'F5', '௫': 'F6', '௬': 'F7', '௭': 'F8', '௮': 'F9', '௯': 'FA'},\n",
       "       {'ఁ': 'A1', 'ం': 'A2', 'ః': 'A3', 'అ': 'A4', 'ఆ': 'A5', 'ఇ': 'A6', 'ఌ': 'A6*', 'ఈ': 'A7', 'ౡ': 'A7*', 'ఉ': 'A8', 'ఊ': 'A9', 'ఋ': 'AA', 'ౠ': 'AA*', 'ఎ': 'AB', 'ఏ': 'AC', 'ఐ': 'AD', 'ఒ': 'AF', 'ఓ': 'B0', 'ఔ': 'B1', 'క': 'B3', 'ఖ': 'B4', 'గ': 'B5', 'ఘ': 'B6', 'ఙ': 'B7', 'చ': 'B8', 'ఛ': 'B9', 'జ': 'BA', 'ఝ': 'BB', 'ఞ': 'BC', 'ట': 'BD', 'ఠ': 'BE', 'డ': 'BF', 'ఢ': 'C0', 'ణ': 'C1', 'త': 'C2', 'థ': 'C3', 'ద': 'C4', 'ధ': 'C5', 'న': 'C6', 'ప': 'C8', 'ఫ': 'C9', 'బ': 'CA', 'భ': 'CB', 'మ': 'CC', 'య': 'CD', 'ర': 'CF', 'ఱ': 'D0', 'ల': 'D1', 'ళ': 'D2', 'వ': 'D4', 'శ': 'D5', 'ష': 'D6', 'స': 'D7', 'హ': 'D8', 'ా': 'DA', 'ి': 'DB', 'ౢ': 'DB*', 'ీ': 'DC', 'ౣ': 'DC*', 'ు': 'DD', 'ూ': 'DE', 'ృ': 'DF', 'ౄ': 'DF*', 'ె': 'E0', 'ే': 'E1', 'ై': 'E2', 'ొ': 'E4', 'ో': 'E5', 'ౌ': 'E6', '్': 'E8', 'ఽ': 'EA*', '౦': 'F1', '౧': 'F2', '౨': 'F3', '౩': 'F4', '౪': 'F5', '౫': 'F6', '౬': 'F7', '౭': 'F8', '౮': 'F9', '౯': 'FA'}],\n",
       "      dtype=object)"
      ]
     },
     "execution_count": 6,
     "metadata": {},
     "output_type": "execute_result"
    }
   ],
   "source": [
    "#df=pd.read_csv('./iscii1.csv',).fillna(value=0)\n",
    "\n",
    "\n",
    "global lang_map\n",
    "lang_map=generate_iscii_map()\n",
    "lang_map"
   ]
  },
  {
   "cell_type": "code",
   "execution_count": 7,
   "metadata": {},
   "outputs": [
    {
     "data": {
      "text/plain": [
       "'/mnt/batch/tasks/shared/LS_root/mounts/clusters/hpesonal/code/Users/ganvir.sonal2000'"
      ]
     },
     "execution_count": 7,
     "metadata": {},
     "output_type": "execute_result"
    }
   ],
   "source": [
    "os.getcwd()"
   ]
  },
  {
   "cell_type": "code",
   "execution_count": 8,
   "metadata": {
    "jupyter": {
     "outputs_hidden": false,
     "source_hidden": false
    },
    "nteract": {
     "transient": {
      "deleting": false
     }
    }
   },
   "outputs": [],
   "source": [
    "\n",
    "dirt='data'\n",
    "root=os.getcwd()\n",
    "#os.mkdir(os.path.join(root,dirt))\n",
    "os.chdir(os.path.join(root,dirt))\n",
    "\n"
   ]
  },
  {
   "cell_type": "code",
   "execution_count": 10,
   "metadata": {
    "jupyter": {
     "outputs_hidden": false,
     "source_hidden": false
    },
    "nteract": {
     "transient": {
      "deleting": false
     }
    }
   },
   "outputs": [],
   "source": [
    "X=[]\n",
    "Y=[]\n",
    "path=\"https://hpedl.blob.core.windows.net/lang/\"\n",
    "for lang in languages:\n",
    "    \n",
    "    \n",
    "    fp=\"{}.csv\".format(lang)\n",
    "    !wget -q -nc {path+fp}\n",
    "    df=pd.read_csv(os.path.join(fp),header=None)\n",
    "    for x in df[0]:\n",
    "        if(pd.isna(word)):\n",
    "              continue\n",
    "       # X.append(one_hot_encoded(process(x)))\n",
    "        Y.append(lang)\n",
    "    !rm {fp}"
   ]
  },
  {
   "cell_type": "code",
   "execution_count": null,
   "metadata": {},
   "outputs": [],
   "source": [
    "from collections import Counter\n",
    "from import matplotlib as plt\n",
    "counts=Counter(y)"
   ]
  },
  {
   "cell_type": "code",
   "execution_count": null,
   "metadata": {},
   "outputs": [],
   "source": []
  }
 ],
 "metadata": {
  "kernel_info": {
   "name": "python3-azureml"
  },
  "kernelspec": {
   "display_name": "Python 3.6 - AzureML",
   "language": "python",
   "name": "python3-azureml"
  },
  "language_info": {
   "codemirror_mode": {
    "name": "ipython",
    "version": 3
   },
   "file_extension": ".py",
   "mimetype": "text/x-python",
   "name": "python",
   "nbconvert_exporter": "python",
   "pygments_lexer": "ipython3",
   "version": "3.6.9"
  },
  "nteract": {
   "version": "nteract-front-end@1.0.0"
  }
 },
 "nbformat": 4,
 "nbformat_minor": 2
}
