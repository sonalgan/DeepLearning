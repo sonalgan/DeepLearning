{
 "cells": [
  {
   "cell_type": "code",
   "execution_count": 1,
   "metadata": {},
   "outputs": [],
   "source": [
    "!git clone https://github.com/anoopkunchukuttan/indic_nlp_resources.git -q\n",
    "!git clone https://github.com/anoopkunchukuttan/indic_nlp_library.git -q\n"
   ]
  },
  {
   "cell_type": "code",
   "execution_count": 1,
   "metadata": {},
   "outputs": [],
   "source": [
    "import sys\n",
    "# The path to the local git repo for Indic NLP library\n",
    "INDIC_NLP_LIB_HOME=r\"./indic_nlp_library\"\n",
    "# The path to the local git repo for Indic NLP Resources\n",
    "INDIC_NLP_RESOURCES=r\"./indic_nlp_resources\"\n",
    "sys.path.append(r'{}'.format(INDIC_NLP_LIB_HOME))\n",
    "from indicnlp import common\n",
    "common.set_resources_path(INDIC_NLP_RESOURCES)\n",
    "from indicnlp import loader\n",
    "loader.load()"
   ]
  },
  {
   "cell_type": "code",
   "execution_count": 100,
   "metadata": {},
   "outputs": [],
   "source": [
    "from indicnlp.transliterate.unicode_transliterate import ItransTransliterator\n",
    "from indicnlp.tokenize import indic_tokenize  \n",
    "import numpy as np\n",
    "from numpy import argmax\n",
    "import re\n",
    "import csv\n",
    "import numpy as np\n",
    "import pandas as pd\n",
    "global alphabet\n",
    "global maxlen\n",
    "global N_LANG\n",
    "global languages\n",
    "N_LANG=10\n",
    "maxlen=28\n",
    "alphabet = \"abcdefghijklmnopqrstuvwxyz\"\n",
    "languages=[\"hi\",\"bn\",\"gu\",\"kn\",\"mr\",\"or\",\"ta\",\"te\",\"ml\",\"pa\"]\n",
    "languages.sort()"
   ]
  },
  {
   "cell_type": "code",
   "execution_count": 5,
   "metadata": {},
   "outputs": [],
   "source": [
    "\n",
    "def one_hot_encode(data):\n",
    "  char_to_int = dict((c, i) for i, c in enumerate(alphabet))\n",
    "  integer_encoded = [char_to_int[char] for char in data]\n",
    "  onehot_encoded = []\n",
    "  \n",
    "  for value in integer_encoded:\n",
    "    letter = np.zeros(len(alphabet))\n",
    "    letter[value] = 1\n",
    "    onehot_encoded.append(letter)\n",
    "  while(len(onehot_encoded)<maxlen):\n",
    "    letter = np.zeros(len(alphabet))\n",
    "    onehot_encoded.append(letter)\n",
    "  return  np.array(onehot_encoded)\n",
    "\n",
    "\n",
    "    \n",
    "def process(test_str):\n",
    "  test_str=test_str.lower()\n",
    "  test_str = re.sub(r'[^a-zA-Z ]', '', test_str)\n",
    "  rem=['\\u0964','\\u0965','']\n",
    "  test_str = re.sub(r'', '', test_str)\n",
    "  return test_str\n",
    "\n",
    "def encode_labels(label):\n",
    "  temp = np.zeros(N_LANG)\n",
    "  temp[label-1] = 1\n",
    "  return temp\n",
    "\n",
    "def encode_labels_indic(label):\n",
    "    temp = np.zeros(N_LANG)\n",
    "    i=languages.index(label)\n",
    "    temp[i] = 1\n",
    "    return temp\n",
    "\n",
    "\n",
    "def invert_one_hot_encode(data):\n",
    "  int_to_char = dict((i, c) for i, c in enumerate(alphabet))\n",
    "  inverted=\"\"\n",
    "  for ch in data:\n",
    "    inverted+= int_to_char[argmax(ch)]"
   ]
  },
  {
   "cell_type": "code",
   "execution_count": 47,
   "metadata": {},
   "outputs": [],
   "source": [
    "df=pd.read_csv('./words.csv')"
   ]
  },
  {
   "cell_type": "code",
   "execution_count": 48,
   "metadata": {},
   "outputs": [],
   "source": [
    "X=[]\n",
    "Y=[]\n",
    "counts=[]\n",
    "for word,lang in zip(df.words,df.lang):\n",
    "  if(pd.isna(word)):\n",
    "      continue\n",
    "  #counts.append(lang)\n",
    "  word=process(ItransTransliterator.to_itrans(word,lang))\n",
    "  if(len(word)<=maxlen and word not in ['',' ']):   \n",
    "      X.append(one_hot_encode(process(ItransTransliterator.to_itrans(word,lang))))\n",
    "      Y.append(encode_labels_indic(lang))\n",
    "del df\n",
    "X=np.array(X)\n",
    "Y=np.array(Y)"
   ]
  },
  {
   "cell_type": "code",
   "execution_count": 7,
   "metadata": {},
   "outputs": [
    {
     "data": {
      "text/plain": [
       "(99972, 728)"
      ]
     },
     "execution_count": 7,
     "metadata": {},
     "output_type": "execute_result"
    }
   ],
   "source": [
    "\n",
    "X=np.reshape(X,(X.shape[0],X.shape[1]*X.shape[2]))\n",
    "X.shape\n",
    "\n",
    "\n"
   ]
  },
  {
   "cell_type": "code",
   "execution_count": 44,
   "metadata": {},
   "outputs": [],
   "source": [
    "from sklearn.model_selection import train_test_split\n",
    "from keras.models import Sequential\n",
    "from keras.layers import Dense,Flatten\n",
    "from keras.callbacks import ModelCheckpoint, TensorBoard"
   ]
  },
  {
   "cell_type": "code",
   "execution_count": 49,
   "metadata": {},
   "outputs": [],
   "source": [
    "X_train, X_test, y_train, y_test = train_test_split(X, Y, test_size=0.33)\n"
   ]
  },
  {
   "cell_type": "code",
   "execution_count": 42,
   "metadata": {},
   "outputs": [
    {
     "name": "stdout",
     "output_type": "stream",
     "text": [
      "Model: \"sequential_2\"\n",
      "_________________________________________________________________\n",
      "Layer (type)                 Output Shape              Param #   \n",
      "=================================================================\n",
      "dense_6 (Dense)              (None, 600)               437400    \n",
      "_________________________________________________________________\n",
      "dense_7 (Dense)              (None, 400)               240400    \n",
      "_________________________________________________________________\n",
      "dense_8 (Dense)              (None, 200)               80200     \n",
      "_________________________________________________________________\n",
      "dense_9 (Dense)              (None, 100)               20100     \n",
      "_________________________________________________________________\n",
      "dense_10 (Dense)             (None, 10)                1010      \n",
      "=================================================================\n",
      "Total params: 779,110\n",
      "Trainable params: 779,110\n",
      "Non-trainable params: 0\n",
      "_________________________________________________________________\n"
     ]
    }
   ],
   "source": [
    "network.summary()"
   ]
  },
  {
   "cell_type": "markdown",
   "metadata": {},
   "source": [
    "network = Sequential()\n",
    "network.add(Flatten())\n",
    "network.add(Dense(600, input_dim=26*maxlen, activation='sigmoid'))\n",
    "network.add(Dense(400, activation='sigmoid'))\n",
    "network.add(Dense(200, activation='sigmoid'))\n",
    "network.add(Dense(100, activation='sigmoid'))\n",
    "network.add(Dense(N_LANG, activation='softmax'))\n",
    "\n",
    "network.compile(loss='binary_crossentropy', optimizer='adam', metrics=['accuracy'])"
   ]
  },
  {
   "cell_type": "raw",
   "metadata": {},
   "source": [
    "\n"
   ]
  },
  {
   "cell_type": "code",
   "execution_count": 51,
   "metadata": {},
   "outputs": [],
   "source": [
    "network = Sequential()\n",
    "network.add(Flatten())\n",
    "network.add(Dense(600, input_dim=26*maxlen, activation='sigmoid'))\n",
    "network.add(Dense(400, activation='sigmoid'))\n",
    "network.add(Dense(200, activation='sigmoid'))\n",
    "network.add(Dense(100, activation='sigmoid'))\n",
    "network.add(Dense(N_LANG, activation='softmax'))\n",
    "\n",
    "network.compile(loss='binary_crossentropy', optimizer='adam', metrics=['accuracy'])"
   ]
  },
  {
   "cell_type": "code",
   "execution_count": 52,
   "metadata": {},
   "outputs": [
    {
     "name": "stdout",
     "output_type": "stream",
     "text": [
      "Train on 66981 samples, validate on 32991 samples\n",
      "Epoch 1/20\n",
      "66981/66981 [==============================] - 3s 42us/step - loss: 0.3200 - accuracy: 0.9000 - val_loss: 0.2971 - val_accuracy: 0.9000\n",
      "Epoch 2/20\n",
      " 5120/66981 [=>............................] - ETA: 2s - loss: 0.2962 - accuracy: 0.9000"
     ]
    },
    {
     "name": "stderr",
     "output_type": "stream",
     "text": [
      "/anaconda/envs/azureml_py36/lib/python3.6/site-packages/keras/callbacks/callbacks.py:707: RuntimeWarning: Can save best model only with val_acc available, skipping.\n",
      "  'skipping.' % (self.monitor), RuntimeWarning)\n"
     ]
    },
    {
     "name": "stdout",
     "output_type": "stream",
     "text": [
      "66981/66981 [==============================] - 3s 38us/step - loss: 0.2846 - accuracy: 0.9014 - val_loss: 0.2775 - val_accuracy: 0.9026\n",
      "Epoch 3/20\n",
      "66981/66981 [==============================] - 3s 38us/step - loss: 0.2720 - accuracy: 0.9035 - val_loss: 0.2698 - val_accuracy: 0.9041\n",
      "Epoch 4/20\n",
      "66981/66981 [==============================] - 3s 38us/step - loss: 0.2627 - accuracy: 0.9058 - val_loss: 0.2590 - val_accuracy: 0.9063\n",
      "Epoch 5/20\n",
      "66981/66981 [==============================] - 3s 38us/step - loss: 0.2549 - accuracy: 0.9075 - val_loss: 0.2544 - val_accuracy: 0.9075\n",
      "Epoch 6/20\n",
      "66981/66981 [==============================] - 3s 39us/step - loss: 0.2487 - accuracy: 0.9093 - val_loss: 0.2494 - val_accuracy: 0.9086\n",
      "Epoch 7/20\n",
      "66981/66981 [==============================] - 3s 38us/step - loss: 0.2453 - accuracy: 0.9101 - val_loss: 0.2470 - val_accuracy: 0.9095\n",
      "Epoch 8/20\n",
      "66981/66981 [==============================] - 3s 38us/step - loss: 0.2422 - accuracy: 0.9112 - val_loss: 0.2432 - val_accuracy: 0.9107\n",
      "Epoch 9/20\n",
      "66981/66981 [==============================] - 3s 39us/step - loss: 0.2390 - accuracy: 0.9122 - val_loss: 0.2416 - val_accuracy: 0.9113\n",
      "Epoch 10/20\n",
      "66981/66981 [==============================] - 3s 38us/step - loss: 0.2371 - accuracy: 0.9129 - val_loss: 0.2396 - val_accuracy: 0.9118\n",
      "Epoch 11/20\n",
      "66981/66981 [==============================] - 3s 40us/step - loss: 0.2352 - accuracy: 0.9132 - val_loss: 0.2392 - val_accuracy: 0.9116\n",
      "Epoch 12/20\n",
      "66981/66981 [==============================] - 3s 43us/step - loss: 0.2340 - accuracy: 0.9136 - val_loss: 0.2374 - val_accuracy: 0.9124\n",
      "Epoch 13/20\n",
      "66981/66981 [==============================] - 3s 43us/step - loss: 0.2328 - accuracy: 0.9140 - val_loss: 0.2363 - val_accuracy: 0.9126\n",
      "Epoch 14/20\n",
      "66981/66981 [==============================] - 3s 43us/step - loss: 0.2316 - accuracy: 0.9145 - val_loss: 0.2354 - val_accuracy: 0.9133\n",
      "Epoch 15/20\n",
      "66981/66981 [==============================] - 3s 44us/step - loss: 0.2304 - accuracy: 0.9147 - val_loss: 0.2366 - val_accuracy: 0.9128\n",
      "Epoch 16/20\n",
      "66981/66981 [==============================] - 3s 43us/step - loss: 0.2292 - accuracy: 0.9154 - val_loss: 0.2339 - val_accuracy: 0.9133\n",
      "Epoch 17/20\n",
      "66981/66981 [==============================] - 3s 42us/step - loss: 0.2280 - accuracy: 0.9158 - val_loss: 0.2324 - val_accuracy: 0.9139\n",
      "Epoch 18/20\n",
      "66981/66981 [==============================] - 3s 43us/step - loss: 0.2263 - accuracy: 0.9163 - val_loss: 0.2320 - val_accuracy: 0.9137\n",
      "Epoch 19/20\n",
      "66981/66981 [==============================] - 3s 43us/step - loss: 0.2248 - accuracy: 0.9167 - val_loss: 0.2298 - val_accuracy: 0.9149\n",
      "Epoch 20/20\n",
      "66981/66981 [==============================] - 3s 42us/step - loss: 0.2232 - accuracy: 0.9172 - val_loss: 0.2287 - val_accuracy: 0.9153\n"
     ]
    }
   ],
   "source": [
    "filepath = \"./weights.hdf5\"\n",
    "checkpoint = ModelCheckpoint(filepath, monitor='val_acc', verbose=1, save_best_only=True, mode='max')\n",
    "tboard = TensorBoard(log_dir='./logs', write_graph=True, write_images=True)\n",
    "callbacks_list = [checkpoint, tboard]\n",
    "\n",
    "history=network.fit(X_train, y_train, epochs=20, batch_size=256, validation_data=(X_test, y_test), callbacks=callbacks_list,verbose=1)"
   ]
  },
  {
   "cell_type": "code",
   "execution_count": 28,
   "metadata": {},
   "outputs": [
    {
     "name": "stdout",
     "output_type": "stream",
     "text": [
      "The tensorboard extension is already loaded. To reload it, use:\n",
      "  %reload_ext tensorboard\n"
     ]
    },
    {
     "data": {
      "text/html": [
       "\n",
       "      <iframe id=\"tensorboard-frame-10cdac040aa6d3f6\" width=\"100%\" height=\"800\" frameborder=\"0\">\n",
       "      </iframe>\n",
       "      <script>\n",
       "        (function() {\n",
       "          const frame = document.getElementById(\"tensorboard-frame-10cdac040aa6d3f6\");\n",
       "          const url = new URL(\"/\", window.location);\n",
       "          url.port = 6006;\n",
       "          frame.src = url;\n",
       "        })();\n",
       "      </script>\n",
       "  "
      ],
      "text/plain": [
       "<IPython.core.display.HTML object>"
      ]
     },
     "metadata": {},
     "output_type": "display_data"
    }
   ],
   "source": [
    "%load_ext tensorboard\n",
    "logs_base_dir = \"./logs\"\n",
    "os.makedirs(logs_base_dir, exist_ok=True)\n",
    "!kill 22029\n",
    "%tensorboard --logdir {logs_base_dir} --host=localhost  --port 6006"
   ]
  },
  {
   "cell_type": "code",
   "execution_count": 53,
   "metadata": {},
   "outputs": [],
   "source": [
    "import matplotlib.pyplot as plt\n",
    "plt.style.use('ggplot')\n",
    "\n",
    "def plot_history(history):\n",
    "    acc = history.history['accuracy']\n",
    "    val_acc = history.history['val_accuracy']\n",
    "    loss = history.history['loss']\n",
    "    val_loss = history.history['val_loss']\n",
    "    x = range(1, len(acc) + 1)\n",
    "\n",
    "    plt.figure(figsize=(12, 5))\n",
    "    plt.subplot(1, 2, 1)\n",
    "    plt.plot(x, acc, 'b', label='Training acc')\n",
    "    plt.plot(x, val_acc, 'r', label='Validation acc')\n",
    "    plt.title('Training and validation accuracy')\n",
    "    plt.legend()\n",
    "    plt.subplot(1, 2, 2)\n",
    "    plt.plot(x, loss, 'b', label='Training loss')\n",
    "    plt.plot(x, val_loss, 'r', label='Validation loss')\n",
    "    plt.title('Training and validation loss')\n",
    "    plt.legend()"
   ]
  },
  {
   "cell_type": "code",
   "execution_count": 54,
   "metadata": {},
   "outputs": [
    {
     "data": {
      "image/png": "[encoded data removed]",
      "text/plain": [
       "<Figure size 864x360 with 2 Axes>"
      ]
     },
     "metadata": {},
     "output_type": "display_data"
    }
   ],
   "source": [
    "\n",
    "\n",
    "plot_history(history)\n",
    "\n"
   ]
  },
  {
   "cell_type": "code",
   "execution_count": 106,
   "metadata": {},
   "outputs": [
    {
     "name": "stdout",
     "output_type": "stream",
     "text": [
      "aamhi\n",
      "maanhus\n",
      "aaho\n"
     ]
    },
    {
     "data": {
      "text/plain": [
       "\"\\nt=one_hot_encode(process(tokenize()))\\ns=encode_labels_indic('mr')\\nprint(s)\\nprint(t.shape,s.shape)\\nt=np.reshape(t,(1,t.shape[0],t.shape[1]))\\ns=np.reshape(s,(1,10))\\nprint(t.shape,s.shape)\\nans=network.predict(t)\\n\""
      ]
     },
     "execution_count": 106,
     "metadata": {},
     "output_type": "execute_result"
    }
   ],
   "source": [
    "st='aamhi maanhus aaho'\n",
    "x=[]\n",
    "for word in st.split():\n",
    "    print(word)\n",
    "    x.append(one_hot_encode(process(word)))\n",
    "    \n",
    "ans=network.predict(np.array(x))\n",
    "''''''\n",
    "t=one_hot_encode(process(tokenize()))\n",
    "s=encode_labels_indic('mr')\n",
    "print(s)\n",
    "print(t.shape,s.shape)\n",
    "t=np.reshape(t,(1,t.shape[0],t.shape[1]))\n",
    "s=np.reshape(s,(1,10))\n",
    "print(t.shape,s.shape)\n",
    "ans=network.predict(t)\n",
    "''''''\n"
   ]
  },
  {
   "cell_type": "code",
   "execution_count": 107,
   "metadata": {},
   "outputs": [
    {
     "name": "stdout",
     "output_type": "stream",
     "text": [
      "[[0.07085986 0.15824607 0.15293309 0.07961413 0.01072838 0.15105116\n",
      "  0.09204894 0.14782278 0.00994299 0.1267525 ]\n",
      " [0.02706261 0.17490156 0.05340629 0.27850556 0.10294501 0.0291759\n",
      "  0.10498627 0.01801721 0.01656017 0.1944394 ]\n",
      " [0.06659287 0.26475072 0.18307742 0.02262179 0.02299095 0.08501463\n",
      "  0.05452383 0.2748213  0.00708473 0.01852177]]\n"
     ]
    }
   ],
   "source": [
    "print(ans)"
   ]
  },
  {
   "cell_type": "code",
   "execution_count": 69,
   "metadata": {},
   "outputs": [
    {
     "data": {
      "text/plain": [
       "['bn', 'gu', 'hi', 'kn', 'ml', 'mr', 'or', 'pa', 'ta', 'te']"
      ]
     },
     "execution_count": 69,
     "metadata": {},
     "output_type": "execute_result"
    }
   ],
   "source": [
    "languages\n",
    "\n"
   ]
  },
  {
   "cell_type": "code",
   "execution_count": null,
   "metadata": {},
   "outputs": [],
   "source": []
  }
 ],
 "metadata": {
  "kernelspec": {
   "display_name": "Python 3",
   "language": "python",
   "name": "python3"
  },
  "language_info": {
   "codemirror_mode": {
    "name": "ipython",
    "version": 3
   },
   "file_extension": ".py",
   "mimetype": "text/x-python",
   "name": "python",
   "nbconvert_exporter": "python",
   "pygments_lexer": "ipython3",
   "version": "3.6.9"
  }
 },
 "nbformat": 4,
 "nbformat_minor": 4
}
