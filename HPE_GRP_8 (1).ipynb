{
  "cells": [
    {
      "cell_type": "code",
      "source": [
        "import numpy as np\r\n",
        "import re\r\n",
        "import numpy as np\r\n",
        "import pandas as pd\r\n",
        "global alphabet\r\n",
        "global maxlen\r\n",
        "global N_LANG\r\n",
        "N_LANG=10\r\n",
        "maxlen=13 #max word lenght 13\r\n",
        "alphabet = \"abcdefghijklmnopqrstuvwxyzíóéáñúüäßöàèêçôùîûâìòźåãõíłęążśćńøæ\" #61 different character found in 10 European different Language\r\n",
        "def one_hot_encode(data):\r\n",
        "  char_to_int = dict((c, i) for i, c in enumerate(alphabet))\r\n",
        "  integer_encoded = [char_to_int[char] for char in data]\r\n",
        "  onehot_encoded = []\r\n",
        "  for value in integer_encoded:\r\n",
        "    letter = np.zeros(len(alphabet))\r\n",
        "    letter[value] = 1\r\n",
        "    onehot_encoded.append(letter)\r\n",
        "  while(len(onehot_encoded)<maxlen):\r\n",
        "    letter = np.zeros(len(alphabet))\r\n",
        "    onehot_encoded.append(letter)\r\n",
        "  return  np.array(onehot_encoded)\r\n",
        "\r\n",
        "def encode_labels(label):\r\n",
        "  temp = np.zeros(N_LANG)\r\n",
        "  temp[label-1] = 1\r\n",
        "  return temp\r\n",
        "\r\n",
        "def process(test_str):\r\n",
        "  test_str=test_str.lower()\r\n",
        "  test_str = re.sub(r'[^a-zA-Z ]', '', test_str)\r\n",
        "  return test_str"
      ],
      "outputs": [],
      "execution_count": 1,
      "metadata": {
        "gather": {
          "logged": 1612860626183
        }
      }
    },
    {
      "cell_type": "code",
      "source": [
        "x=[]\r\n",
        "y=[]\r\n",
        "df=pd.read_csv('https://github.com/404S-retr0/HPE_Project_Grp-8/blob/main/Data_Wordlists.csv?raw=true')\r\n",
        "for word,lang in zip(df.WORDS,df.LANGAUAGE_VECTOR):\r\n",
        "    if(pd.isna(word)):\r\n",
        "      continue\r\n",
        "    if(len(word)<=maxlen):\r\n",
        "      x.append(one_hot_encode(process(word)))\r\n",
        "      y.append(encode_labels(int(lang)))\r\n",
        "x=np.array(x)\r\n",
        "print(x.shape)\r\n",
        "y=np.array(y)\r\n",
        "print(y.shape)"
      ],
      "outputs": [
        {
          "output_type": "stream",
          "name": "stdout",
          "text": [
            "(905779, 13, 61)\n",
            "(905779, 10)\n"
          ]
        }
      ],
      "execution_count": 2,
      "metadata": {
        "collapsed": true,
        "jupyter": {
          "source_hidden": false,
          "outputs_hidden": false
        },
        "nteract": {
          "transient": {
            "deleting": false
          }
        },
        "gather": {
          "logged": 1612860670026
        }
      }
    },
    {
      "cell_type": "code",
      "source": [
        "from sklearn.model_selection import train_test_split\r\n",
        "from keras.models import Sequential\r\n",
        "from keras.layers import Dense,Flatten\r\n",
        "from keras.callbacks import ModelCheckpoint, TensorBoard"
      ],
      "outputs": [],
      "execution_count": 33,
      "metadata": {
        "collapsed": true,
        "jupyter": {
          "source_hidden": false,
          "outputs_hidden": false
        },
        "nteract": {
          "transient": {
            "deleting": false
          }
        },
        "gather": {
          "logged": 1612864171122
        }
      }
    },
    {
      "cell_type": "code",
      "source": [
        "x_train,x_test,y_train,y_test=train_test_split(x,y,test_size=0.5)\r\n",
        "network = Sequential()\r\n",
        "network.add(Flatten())\r\n",
        "network.add(Dense(200, input_dim=61*maxlen, activation='sigmoid'))\r\n",
        "network.add(Dense(150, activation='sigmoid'))\r\n",
        "network.add(Dense(100, activation='sigmoid'))\r\n",
        "network.add(Dense(50, activation='sigmoid'))\r\n",
        "network.add(Dense(N_LANG, activation='softmax'))\r\n",
        "network.compile(loss='binary_crossentropy', optimizer='adam', metrics=['accuracy'])"
      ],
      "outputs": [],
      "execution_count": 41,
      "metadata": {
        "collapsed": true,
        "jupyter": {
          "source_hidden": false,
          "outputs_hidden": false
        },
        "nteract": {
          "transient": {
            "deleting": false
          }
        },
        "gather": {
          "logged": 1612864558285
        }
      }
    },
    {
      "cell_type": "code",
      "source": [
        "from keras.callbacks import EarlyStopping\r\n",
        "filepath = \"weights.hdf5\"\r\n",
        "checkpoint = ModelCheckpoint(filepath, monitor='val_acc', verbose=1, save_best_only=True, mode='max')\r\n",
        "tboard = TensorBoard(log_dir='./logs', write_graph=True, write_images=True)\r\n",
        "callbacks_list = [checkpoint, tboard]\r\n",
        "history=network.fit(x_train,y_train, epochs=40, batch_size=500, validation_data=(x_test,y_test),callbacks=callbacks_list,verbose=1)"
      ],
      "outputs": [
        {
          "output_type": "stream",
          "name": "stdout",
          "text": [
            "Train on 452889 samples, validate on 452890 samples\n",
            "Epoch 1/40\n",
            "452889/452889 [==============================] - 8s 19us/step - loss: 0.2957 - accuracy: 0.9028 - val_loss: 0.2787 - val_accuracy: 0.9043\b\b\b\b\b\b\b\b\b\b\b\b\b\b\b\b\b\b\b\b\b\b\b\b\b\b\b\b\b\b\b\b\b\b\b\b\b\b\b\b\b\b\b\b\b\b\b\n",
            "Epoch 2/40\n",
            "452889/452889 [==============================] - 8s 17us/step - loss: 0.2740 - accuracy: 0.9048 - val_loss: 0.2695 - val_accuracy: 0.9051\b\b\b\b\b\b\b\b\b\b\b\b\b\b\b\b\b\b\b\b\b\b\b\b\b\b\b\b\b\b\b\b\b\b\b\b\b\b\b\b\b\b\b\b\b\n",
            "Epoch 3/40\n",
            "452889/452889 [==============================] - 8s 18us/step - loss: 0.2672 - accuracy: 0.9055 - val_loss: 0.2640 - val_accuracy: 0.9062\b\b\b\b\b\b\b\b\b\b\b\b\b\b\b\b\b\b\b\b\b\b\b\b\b\b\b\b\b\b\b\b\b\b\b\b\b\b\b\b\b\b\b\b\b\n",
            "Epoch 4/40\n",
            "452889/452889 [==============================] - 8s 18us/step - loss: 0.2622 - accuracy: 0.9065 - val_loss: 0.2610 - val_accuracy: 0.9068\b\b\b\b\b\b\b\b\b\b\b\b\b\b\b\b\b\b\b\b\b\b\b\b\b\b\b\b\b\b\b\b\b\b\b\b\b\b\b\b\b\b\b\b\b\n",
            "Epoch 5/40\n",
            "452889/452889 [==============================] - 8s 17us/step - loss: 0.2595 - accuracy: 0.9072 - val_loss: 0.2584 - val_accuracy: 0.9076\b\b\b\b\b\b\b\b\b\b\b\b\b\b\b\b\b\b\b\b\b\b\b\b\b\b\b\b\b\b\b\b\b\b\b\b\b\b\b\b\b\b\b\b\b\n",
            "Epoch 6/40\n",
            "452889/452889 [==============================] - 8s 17us/step - loss: 0.2569 - accuracy: 0.9080 - val_loss: 0.2560 - val_accuracy: 0.9085\b\b\b\b\b\b\b\b\b\b\b\b\b\b\b\b\b\b\b\b\b\b\b\b\b\b\b\b\b\b\b\b\b\b\b\b\b\b\b\b\b\b\b\b\b\n",
            "Epoch 7/40\n",
            "452889/452889 [==============================] - 8s 17us/step - loss: 0.2549 - accuracy: 0.9088 - val_loss: 0.2547 - val_accuracy: 0.9088\b\b\b\b\b\b\b\b\b\b\b\b\b\b\b\b\b\b\b\b\b\b\b\b\b\b\b\b\b\b\b\b\b\b\b\b\b\b\b\b\b\b\b\b\b\n",
            "Epoch 8/40\n",
            "452889/452889 [==============================] - 8s 17us/step - loss: 0.2532 - accuracy: 0.9094 - val_loss: 0.2529 - val_accuracy: 0.9095\b\b\b\b\b\b\b\b\b\b\b\b\b\b\b\b\b\b\b\b\b\b\b\b\b\b\b\b\b\b\b\b\b\b\b\b\b\b\b\b\b\b\b\b\b\n",
            "Epoch 9/40\n",
            "452889/452889 [==============================] - 8s 17us/step - loss: 0.2517 - accuracy: 0.9099 - val_loss: 0.2511 - val_accuracy: 0.9100\b\b\b\b\b\b\b\b\b\b\b\b\b\b\b\b\b\b\b\b\b\b\b\b\b\b\b\b\b\b\b\b\b\b\b\b\b\b\b\b\b\b\b\b\b\n",
            "Epoch 10/40\n",
            "452889/452889 [==============================] - 8s 18us/step - loss: 0.2501 - accuracy: 0.9103 - val_loss: 0.2501 - val_accuracy: 0.9103\b\b\b\b\b\b\b\b\b\b\b\b\b\b\b\b\b\b\b\b\b\b\b\b\b\b\b\b\b\b\b\b\b\b\b\b\b\b\b\b\b\b\b\b\b\n",
            "Epoch 11/40\n",
            "452889/452889 [==============================] - 8s 18us/step - loss: 0.2487 - accuracy: 0.9107 - val_loss: 0.2486 - val_accuracy: 0.9108\b\b\b\b\b\b\b\b\b\b\b\b\b\b\b\b\b\b\b\b\b\b\b\b\b\b\b\b\b\b\b\b\b\b\b\b\b\b\b\b\b\b\b\b\b\n",
            "Epoch 12/40\n",
            "452889/452889 [==============================] - 8s 17us/step - loss: 0.2473 - accuracy: 0.9111 - val_loss: 0.2473 - val_accuracy: 0.9111\b\b\b\b\b\b\b\b\b\b\b\b\b\b\b\b\b\b\b\b\b\b\b\b\b\b\b\b\b\b\b\b\b\b\b\b\b\b\b\b\b\b\b\b\b\n",
            "Epoch 13/40\n",
            "452889/452889 [==============================] - 8s 18us/step - loss: 0.2457 - accuracy: 0.9116 - val_loss: 0.2456 - val_accuracy: 0.9115\b\b\b\b\b\b\b\b\b\b\b\b\b\b\b\b\b\b\b\b\b\b\b\b\b\b\b\b\b\b\b\b\b\b\b\b\b\b\b\b\b\b\b\b\b\n",
            "Epoch 14/40\n",
            "452889/452889 [==============================] - 8s 17us/step - loss: 0.2442 - accuracy: 0.9120 - val_loss: 0.2445 - val_accuracy: 0.9120\b\b\b\b\b\b\b\b\b\b\b\b\b\b\b\b\b\b\b\b\b\b\b\b\b\b\b\b\b\b\b\b\b\b\b\b\b\b\b\b\b\b\b\b\b\n",
            "Epoch 15/40\n",
            "452889/452889 [==============================] - 8s 18us/step - loss: 0.2426 - accuracy: 0.9125 - val_loss: 0.2425 - val_accuracy: 0.9126\b\b\b\b\b\b\b\b\b\b\b\b\b\b\b\b\b\b\b\b\b\b\b\b\b\b\b\b\b\b\b\b\b\b\b\b\b\b\b\b\b\b\b\b\b\n",
            "Epoch 16/40\n",
            "452889/452889 [==============================] - 8s 17us/step - loss: 0.2408 - accuracy: 0.9131 - val_loss: 0.2412 - val_accuracy: 0.9129\b\b\b\b\b\b\b\b\b\b\b\b\b\b\b\b\b\b\b\b\b\b\b\b\b\b\b\b\b\b\b\b\b\b\b\b\b\b\b\b\b\b\b\b\b\n",
            "Epoch 17/40\n",
            "452889/452889 [==============================] - 8s 18us/step - loss: 0.2390 - accuracy: 0.9137 - val_loss: 0.2397 - val_accuracy: 0.9135\b\b\b\b\b\b\b\b\b\b\b\b\b\b\b\b\b\b\b\b\b\b\b\b\b\b\b\b\b\b\b\b\b\b\b\b\b\b\b\b\b\b\b\b\b\n",
            "Epoch 18/40\n",
            "452889/452889 [==============================] - 8s 17us/step - loss: 0.2370 - accuracy: 0.9144 - val_loss: 0.2374 - val_accuracy: 0.9144\b\b\b\b\b\b\b\b\b\b\b\b\b\b\b\b\b\b\b\b\b\b\b\b\b\b\b\b\b\b\b\b\b\b\b\b\b\b\b\b\b\b\b\b\b\n",
            "Epoch 19/40\n",
            "452889/452889 [==============================] - 8s 17us/step - loss: 0.2349 - accuracy: 0.9152 - val_loss: 0.2352 - val_accuracy: 0.9151\b\b\b\b\b\b\b\b\b\b\b\b\b\b\b\b\b\b\b\b\b\b\b\b\b\b\b\b\b\b\b\b\b\b\b\b\b\b\b\b\b\b\b\b\b\n",
            "Epoch 20/40\n",
            "452889/452889 [==============================] - 8s 17us/step - loss: 0.2328 - accuracy: 0.9159 - val_loss: 0.2341 - val_accuracy: 0.9156\b\b\b\b\b\b\b\b\b\b\b\b\b\b\b\b\b\b\b\b\b\b\b\b\b\b\b\b\b\b\b\b\b\b\b\b\b\b\b\b\b\b\b\b\b\n",
            "Epoch 21/40\n",
            "452889/452889 [==============================] - 8s 17us/step - loss: 0.2307 - accuracy: 0.9167 - val_loss: 0.2323 - val_accuracy: 0.9161\b\b\b\b\b\b\b\b\b\b\b\b\b\b\b\b\b\b\b\b\b\b\b\b\b\b\b\b\b\b\b\b\b\b\b\b\b\b\b\b\b\b\b\b\b\n",
            "Epoch 22/40\n",
            "452889/452889 [==============================] - 8s 17us/step - loss: 0.2288 - accuracy: 0.9173 - val_loss: 0.2305 - val_accuracy: 0.9168\b\b\b\b\b\b\b\b\b\b\b\b\b\b\b\b\b\b\b\b\b\b\b\b\b\b\b\b\b\b\b\b\b\b\b\b\b\b\b\b\b\b\b\b\b\n",
            "Epoch 23/40\n",
            "452889/452889 [==============================] - 8s 17us/step - loss: 0.2269 - accuracy: 0.9181 - val_loss: 0.2287 - val_accuracy: 0.9174\b\b\b\b\b\b\b\b\b\b\b\b\b\b\b\b\b\b\b\b\b\b\b\b\b\b\b\b\b\b\b\b\b\b\b\b\b\b\b\b\b\b\b\b\b\n",
            "Epoch 24/40\n",
            "452889/452889 [==============================] - 8s 17us/step - loss: 0.2252 - accuracy: 0.9187 - val_loss: 0.2274 - val_accuracy: 0.9179\b\b\b\b\b\b\b\b\b\b\b\b\b\b\b\b\b\b\b\b\b\b\b\b\b\b\b\b\b\b\b\b\b\b\b\b\b\b\b\b\b\b\b\b\b\n",
            "Epoch 25/40\n",
            "452889/452889 [==============================] - 8s 18us/step - loss: 0.2234 - accuracy: 0.9193 - val_loss: 0.2260 - val_accuracy: 0.9184\b\b\b\b\b\b\b\b\b\b\b\b\b\b\b\b\b\b\b\b\b\b\b\b\b\b\b\b\b\b\b\b\b\b\b\b\b\b\b\b\b\b\b\b\b\n",
            "Epoch 26/40\n",
            "452889/452889 [==============================] - 8s 17us/step - loss: 0.2219 - accuracy: 0.9199 - val_loss: 0.2247 - val_accuracy: 0.9188\b\b\b\b\b\b\b\b\b\b\b\b\b\b\b\b\b\b\b\b\b\b\b\b\b\b\b\b\b\b\b\b\b\b\b\b\b\b\b\b\b\b\b\b\b\n",
            "Epoch 27/40\n",
            "452889/452889 [==============================] - 8s 17us/step - loss: 0.2204 - accuracy: 0.9204 - val_loss: 0.2241 - val_accuracy: 0.9192\b\b\b\b\b\b\b\b\b\b\b\b\b\b\b\b\b\b\b\b\b\b\b\b\b\b\b\b\b\b\b\b\b\b\b\b\b\b\b\b\b\b\b\b\b\n",
            "Epoch 28/40\n",
            "452889/452889 [==============================] - 8s 17us/step - loss: 0.2189 - accuracy: 0.9209 - val_loss: 0.2230 - val_accuracy: 0.9194\b\b\b\b\b\b\b\b\b\b\b\b\b\b\b\b\b\b\b\b\b\b\b\b\b\b\b\b\b\b\b\b\b\b\b\b\b\b\b\b\b\b\b\b\b\n",
            "Epoch 29/40\n",
            "452889/452889 [==============================] - 8s 17us/step - loss: 0.2176 - accuracy: 0.9214 - val_loss: 0.2218 - val_accuracy: 0.9199\b\b\b\b\b\b\b\b\b\b\b\b\b\b\b\b\b\b\b\b\b\b\b\b\b\b\b\b\b\b\b\b\b\b\b\b\b\b\b\b\b\b\b\b\b\n",
            "Epoch 30/40\n",
            "452889/452889 [==============================] - 8s 17us/step - loss: 0.2164 - accuracy: 0.9218 - val_loss: 0.2207 - val_accuracy: 0.9202\b\b\b\b\b\b\b\b\b\b\b\b\b\b\b\b\b\b\b\b\b\b\b\b\b\b\b\b\b\b\b\b\b\b\b\b\b\b\b\b\b\b\b\b\b\n",
            "Epoch 31/40\n",
            "452889/452889 [==============================] - 8s 18us/step - loss: 0.2151 - accuracy: 0.9222 - val_loss: 0.2201 - val_accuracy: 0.9205\b\b\b\b\b\b\b\b\b\b\b\b\b\b\b\b\b\b\b\b\b\b\b\b\b\b\b\b\b\b\b\b\b\b\b\b\b\b\b\b\b\b\b\b\b\n",
            "Epoch 32/40\n",
            "452889/452889 [==============================] - 8s 18us/step - loss: 0.2140 - accuracy: 0.9227 - val_loss: 0.2193 - val_accuracy: 0.9207\b\b\b\b\b\b\b\b\b\b\b\b\b\b\b\b\b\b\b\b\b\b\b\b\b\b\b\b\b\b\b\b\b\b\b\b\b\b\b\b\b\b\b\b\b\n",
            "Epoch 33/40\n",
            "452889/452889 [==============================] - 8s 18us/step - loss: 0.2128 - accuracy: 0.9231 - val_loss: 0.2180 - val_accuracy: 0.9211\b\b\b\b\b\b\b\b\b\b\b\b\b\b\b\b\b\b\b\b\b\b\b\b\b\b\b\b\b\b\b\b\b\b\b\b\b\b\b\b\b\b\b\b\b\n",
            "Epoch 34/40\n",
            "452889/452889 [==============================] - 8s 18us/step - loss: 0.2117 - accuracy: 0.9235 - val_loss: 0.2175 - val_accuracy: 0.9213\b\b\b\b\b\b\b\b\b\b\b\b\b\b\b\b\b\b\b\b\b\b\b\b\b\b\b\b\b\b\b\b\b\b\b\b\b\b\b\b\b\b\b\b\b\n",
            "Epoch 35/40\n",
            "452889/452889 [==============================] - 8s 18us/step - loss: 0.2108 - accuracy: 0.9237 - val_loss: 0.2188 - val_accuracy: 0.9212\b\b\b\b\b\b\b\b\b\b\b\b\b\b\b\b\b\b\b\b\b\b\b\b\b\b\b\b\b\b\b\b\b\b\b\b\b\b\b\b\b\b\b\b\b\n",
            "Epoch 36/40\n",
            "452889/452889 [==============================] - 8s 18us/step - loss: 0.2098 - accuracy: 0.9243 - val_loss: 0.2163 - val_accuracy: 0.9218\b\b\b\b\b\b\b\b\b\b\b\b\b\b\b\b\b\b\b\b\b\b\b\b\b\b\b\b\b\b\b\b\b\b\b\b\b\b\b\b\b\b\b\b\b\n",
            "Epoch 37/40\n",
            "452889/452889 [==============================] - 8s 18us/step - loss: 0.2088 - accuracy: 0.9246 - val_loss: 0.2155 - val_accuracy: 0.9221\b\b\b\b\b\b\b\b\b\b\b\b\b\b\b\b\b\b\b\b\b\b\b\b\b\b\b\b\b\b\b\b\b\b\b\b\b\b\b\b\b\b\b\b\b\n",
            "Epoch 38/40\n",
            "452889/452889 [==============================] - 8s 18us/step - loss: 0.2079 - accuracy: 0.9248 - val_loss: 0.2161 - val_accuracy: 0.9220\b\b\b\b\b\b\b\b\b\b\b\b\b\b\b\b\b\b\b\b\b\b\b\b\b\b\b\b\b\b\b\b\b\b\b\b\b\b\b\b\b\b\b\b\b\n",
            "Epoch 39/40\n",
            "452889/452889 [==============================] - 8s 18us/step - loss: 0.2071 - accuracy: 0.9252 - val_loss: 0.2151 - val_accuracy: 0.9223\b\b\b\b\b\b\b\b\b\b\b\b\b\b\b\b\b\b\b\b\b\b\b\b\b\b\b\b\b\b\b\b\b\b\b\b\b\b\b\b\b\b\b\b\b\n",
            "Epoch 40/40\n",
            "452889/452889 [==============================] - 8s 18us/step - loss: 0.2063 - accuracy: 0.9255 - val_loss: 0.2148 - val_accuracy: 0.9224\b\b\b\b\b\b\b\b\b\b\b\b\b\b\b\b\b\b\b\b\b\b\b\b\b\b\b\b\b\b\b\b\b\b\b\b\b\b\b\b\b\b\b\b\b\n"
          ]
        },
        {
          "output_type": "stream",
          "name": "stderr",
          "text": [
            "/anaconda/envs/azureml_py36/lib/python3.6/site-packages/keras/callbacks/callbacks.py:707: RuntimeWarning: Can save best model only with val_acc available, skipping.\n",
            "  'skipping.' % (self.monitor), RuntimeWarning)\n"
          ]
        }
      ],
      "execution_count": 42,
      "metadata": {
        "collapsed": true,
        "jupyter": {
          "source_hidden": false,
          "outputs_hidden": false
        },
        "nteract": {
          "transient": {
            "deleting": false
          }
        },
        "gather": {
          "logged": 1612864882534
        }
      }
    },
    {
      "cell_type": "code",
      "source": [
        "import matplotlib.pyplot as plt\r\n",
        "plt.style.use('ggplot')\r\n",
        "\r\n",
        "def plot_history(history):\r\n",
        "    acc = history.history['accuracy']\r\n",
        "    val_acc = history.history['val_accuracy']\r\n",
        "    loss = history.history['loss']\r\n",
        "    val_loss = history.history['val_loss']\r\n",
        "    x = range(1, len(acc) + 1)\r\n",
        "\r\n",
        "    plt.figure(figsize=(12, 5))\r\n",
        "    plt.subplot(1, 2, 1)\r\n",
        "    plt.plot(x, acc, 'b', label='Training acc')\r\n",
        "    plt.plot(x, val_acc, 'r', label='Validation acc')\r\n",
        "    plt.title('Training and validation accuracy')\r\n",
        "    plt.legend()\r\n",
        "    plt.subplot(1, 2, 2)\r\n",
        "    plt.plot(x, loss, 'b', label='Training loss')\r\n",
        "    plt.plot(x, val_loss, 'r', label='Validation loss')\r\n",
        "    plt.title('Training and validation loss')\r\n",
        "    plt.legend()"
      ],
      "outputs": [],
      "execution_count": 43,
      "metadata": {
        "collapsed": true,
        "jupyter": {
          "source_hidden": false,
          "outputs_hidden": false
        },
        "nteract": {
          "transient": {
            "deleting": false
          }
        },
        "gather": {
          "logged": 1612864893619
        }
      }
    },
    {
      "cell_type": "code",
      "source": [
        "plot_history(history)"
      ],
      "outputs": [
        {
          "output_type": "display_data",
          "data": {
            "text/plain": "<Figure size 864x360 with 2 Axes>",
            "image/png": "[encoded data removed]"
          },
          "metadata": {}
        }
      ],
      "execution_count": 44,
      "metadata": {
        "collapsed": true,
        "jupyter": {
          "source_hidden": false,
          "outputs_hidden": false
        },
        "nteract": {
          "transient": {
            "deleting": false
          }
        },
        "gather": {
          "logged": 1612864896057
        }
      }
    },
    {
      "cell_type": "code",
      "source": [
        "plt.plot(history.history['accuracy'])\r\n",
        "plt.plot(history.history['val_accuracy'])\r\n",
        "plt.title('model accuracy')\r\n",
        "plt.ylabel('accuracy')\r\n",
        "plt.xlabel('epoch')\r\n",
        "plt.legend(['train', 'test'], loc='upper left')\r\n",
        "plt.show()"
      ],
      "outputs": [
        {
          "output_type": "display_data",
          "data": {
            "text/plain": "<Figure size 432x288 with 1 Axes>",
            "image/png": "[encoded data removed]"
          },
          "metadata": {}
        }
      ],
      "execution_count": 45,
      "metadata": {
        "collapsed": true,
        "jupyter": {
          "source_hidden": false,
          "outputs_hidden": false
        },
        "nteract": {
          "transient": {
            "deleting": false
          }
        },
        "gather": {
          "logged": 1612864903613
        }
      }
    },
    {
      "cell_type": "code",
      "source": [
        "def text2list(text):\r\n",
        "  import string\r\n",
        "  import re\r\n",
        "  test_str=text\r\n",
        "  test_str = ''.join([i for i in test_str if not i.isdigit()]) \r\n",
        "  test_str=test_str.lower()\r\n",
        "  punc = '''!()-[]{};:'\"\\,<>./?@#$%^&*_~+-=|`'''\r\n",
        "\r\n",
        "  for ele in test_str:\r\n",
        "    if ele in punc:\r\n",
        "      test_str = test_str.replace(ele, \"\")  \r\n",
        "\r\n",
        "  test_str_split=re.split('\\s+', test_str)\r\n",
        "  \r\n",
        "  if (test_str_split[0]==''):\r\n",
        "    test_str_split.remove('')\r\n",
        "  if (test_str_split[len(test_str_split)-1]==''):\r\n",
        "    test_str_split.remove('')\r\n",
        "\r\n",
        "  return test_str_split"
      ],
      "outputs": [],
      "execution_count": 46,
      "metadata": {
        "collapsed": true,
        "jupyter": {
          "source_hidden": false,
          "outputs_hidden": false
        },
        "nteract": {
          "transient": {
            "deleting": false
          }
        },
        "gather": {
          "logged": 1612864905915
        }
      }
    },
    {
      "cell_type": "code",
      "source": [
        "def lang_detect(text):\r\n",
        "    list_of_word=text2list(text)\r\n",
        "    k=[]\r\n",
        "    for word in list_of_word:\r\n",
        "        k.append(one_hot_encode(process(word)))\r\n",
        "        ans=network.predict(np.array(k))\r\n",
        "    print('Predication of language belonging of each unique word from a sentence\\n')\r\n",
        "    eng=0\r\n",
        "    dan=0\r\n",
        "    dut=0\r\n",
        "    fre=0\r\n",
        "    ger=0\r\n",
        "    ita=0\r\n",
        "    pol=0\r\n",
        "    por=0\r\n",
        "    spa=0\r\n",
        "    swe=0\r\n",
        "    for q in range(len(list_of_word)):\r\n",
        "        eng+=ans[q][0]\r\n",
        "        dan+=ans[q][0]\r\n",
        "        dut=ans[q][0]\r\n",
        "        fre+=ans[q][0]\r\n",
        "        ger+=ans[q][0]\r\n",
        "        ita+=ans[q][0]\r\n",
        "        pol+=ans[q][0]\r\n",
        "        por+=ans[q][0]\r\n",
        "        spa+=ans[q][0]\r\n",
        "        swe+=ans[q][0]\r\n",
        "        each_word=list_of_word[q]\r\n",
        "        print(each_word)\r\n",
        "        report = \"Percentage Distribution\\nEnglish:-{}\\nDanish:-{}\\nDutch:-{}\\nFrench:-{}\\nGerman:-{}\\nItalian:-{}\\nPolish:-{}\\nPortuguese:-{}\\nSpanish:-{}\\nSwedish:-{}\\n\".format(eng,dan,dut,fre,ger,ita,pol,por,spa,swe)\r\n",
        "        print(report)"
      ],
      "outputs": [],
      "execution_count": 47,
      "metadata": {
        "collapsed": true,
        "jupyter": {
          "source_hidden": false,
          "outputs_hidden": false
        },
        "nteract": {
          "transient": {
            "deleting": false
          }
        },
        "gather": {
          "logged": 1612864908443
        }
      }
    },
    {
      "cell_type": "code",
      "source": [
        "lang_detect('freshdire')"
      ],
      "outputs": [
        {
          "output_type": "stream",
          "name": "stdout",
          "text": [
            "Predication of language belonging of each unique word from a sentence\n",
            "\n",
            "freshdirect\n",
            "Percentage Distribution\n",
            "English:-0.34213757514953613\n",
            "Danish:-0.34213757514953613\n",
            "Dutch:-0.34213757514953613\n",
            "French:-0.34213757514953613\n",
            "German:-0.34213757514953613\n",
            "Italian:-0.34213757514953613\n",
            "Polish:-0.34213757514953613\n",
            "Portuguese:-0.34213757514953613\n",
            "Spanish:-0.34213757514953613\n",
            "Swedish:-0.34213757514953613\n",
            "\n"
          ]
        }
      ],
      "execution_count": 48,
      "metadata": {
        "collapsed": true,
        "jupyter": {
          "source_hidden": false,
          "outputs_hidden": false
        },
        "nteract": {
          "transient": {
            "deleting": false
          }
        },
        "gather": {
          "logged": 1612864911154
        }
      }
    }
  ],
  "metadata": {
    "kernelspec": {
      "name": "python3-azureml",
      "language": "python",
      "display_name": "Python 3.6 - AzureML"
    },
    "language_info": {
      "name": "python",
      "version": "3.6.9",
      "mimetype": "text/x-python",
      "codemirror_mode": {
        "name": "ipython",
        "version": 3
      },
      "pygments_lexer": "ipython3",
      "nbconvert_exporter": "python",
      "file_extension": ".py"
    },
    "kernel_info": {
      "name": "python3-azureml"
    },
    "nteract": {
      "version": "nteract-front-end@1.0.0"
    }
  },
  "nbformat": 4,
  "nbformat_minor": 2
}